{
 "cells": [
  {
   "cell_type": "markdown",
   "id": "ae6011ca",
   "metadata": {},
   "source": [
    "# Content-based recommendation"
   ]
  },
  {
   "cell_type": "markdown",
   "id": "4a455b8a",
   "metadata": {},
   "source": [
    "# Exercise 1\n",
    "Based on the TF-IDF vectors obtained in the Exercise 2 from Session 4, represent each user in the same vector space. Amongst other feasible solutions, you can represent a user (user profile) by computing the weighted mean of the items vectors. Compute the cosine similarity for user 'A39WWMBA0299ZF' and all products in the training set not rated by the user. What are the top-5 recommended items for user 'A39WWMBA0299ZF'? Print out the top-5 items and their similarity score.  "
   ]
  },
  {
   "cell_type": "code",
   "execution_count": 10,
   "id": "6de5e4ad",
   "metadata": {},
   "outputs": [],
   "source": [
    "from summary import Contentbased_recommendation, Evaluation\n",
    "import gzip\n",
    "import json\n",
    "import pandas as pd\n",
    "\n",
    "def getDF(path):\n",
    "    def parse(path):\n",
    "        g = gzip.open(path, 'rb')\n",
    "        for l in g:\n",
    "            yield json.loads(l)\n",
    "    i = 0\n",
    "    df = {}\n",
    "    for d in parse(path):\n",
    "        df[i] = d\n",
    "        i += 1\n",
    "    return pd.DataFrame.from_dict(df, orient='index')\n",
    "\n",
    "df_1 = getDF('All_Beauty_5.json.gz')\n",
    "df_2 = pd.read_json('meta_All_Beauty.json', lines=True)"
   ]
  },
  {
   "cell_type": "code",
   "execution_count": 3,
   "id": "b005e694",
   "metadata": {},
   "outputs": [],
   "source": [
    "preprocess = Contentbased_recommendation(ui_df=df_1, item_df=df_2)\n",
    "predicetion_list = preprocess.predection()\n",
    "evaluation = Evaluation(predicetion_list, df_1, df_2)"
   ]
  },
  {
   "cell_type": "code",
   "execution_count": 4,
   "id": "69af5fef",
   "metadata": {},
   "outputs": [
    {
     "name": "stdout",
     "output_type": "stream",
     "text": [
      "[('B019FWRG3C', array([0.4158461])), ('B00W259T7G', array([0.17710348])), ('B019809F9Y', array([0.10437818])), ('B00IJHY54S', array([0.08747406])), ('B0006O10P4', array([0.08561345]))]\n"
     ]
    }
   ],
   "source": [
    "print(evaluation.rank_k(uid='A39WWMBA0299ZF',rank=5))"
   ]
  },
  {
   "cell_type": "markdown",
   "id": "599f2bbe",
   "metadata": {},
   "source": [
    "# Exercise 2\n",
    "\n"
   ]
  },
  {
   "cell_type": "markdown",
   "id": "1a7805a3",
   "metadata": {},
   "source": [
    "Compute the systems’ hit rate based on the top-5, top-10 and top-20 recommendations, averaged over the total number of users. Remember that, as we are evaluating the system, you should compute the hit rate over the test set. How well/bad does this Content-based approach perform compared to the Collaborative Filtering?"
   ]
  },
  {
   "cell_type": "code",
   "execution_count": 5,
   "id": "dec627f5",
   "metadata": {},
   "outputs": [],
   "source": [
    "kr_mean_5 = evaluation.mean_k(5, 'hr_k')\n",
    "kr_mean_10 = evaluation.mean_k(10, 'hr_k')\n",
    "kr_mean_20 = evaluation.mean_k(20, 'hr_k')"
   ]
  },
  {
   "cell_type": "code",
   "execution_count": 6,
   "id": "dd4b23d1",
   "metadata": {},
   "outputs": [
    {
     "name": "stdout",
     "output_type": "stream",
     "text": [
      "0.4320337197049526\n",
      "0.45732349841938885\n",
      "0.5163329820864068\n"
     ]
    }
   ],
   "source": [
    "print(kr_mean_5)\n",
    "print(kr_mean_10)\n",
    "print(kr_mean_20)"
   ]
  },
  {
   "cell_type": "markdown",
   "id": "b1d74d43",
   "metadata": {},
   "source": [
    "# Exercise 3\n",
    "\n",
    "Repeat Exercise 1 and 2, this time representing the products and users in a word2vec vector space. You may use the gensim library and download the 300-dimension embeddings from Google. Source: https://radimrehurek.com/gensim/models/word2vec.html#pretrained-models"
   ]
  },
  {
   "cell_type": "code",
   "execution_count": 2,
   "id": "ca33a843",
   "metadata": {},
   "outputs": [
    {
     "name": "stdout",
     "output_type": "stream",
     "text": [
      "[==================================================] 100.0% 1662.8/1662.8MB downloaded\n"
     ]
    }
   ],
   "source": [
    "import gensim.downloader\n",
    "word2vec_vectors = gensim.downloader.load('word2vec-google-news-300')\n"
   ]
  },
  {
   "cell_type": "code",
   "execution_count": 8,
   "id": "70c0a8b4",
   "metadata": {},
   "outputs": [],
   "source": [
    "import numpy as np\n",
    "word2vec_vectors['word'].shape\n",
    "vector_list = np.zeros((300,))"
   ]
  },
  {
   "cell_type": "code",
   "execution_count": 11,
   "id": "a09f04b6",
   "metadata": {},
   "outputs": [
    {
     "ename": "KeyError",
     "evalue": "\"Key 'velva' not present\"",
     "output_type": "error",
     "traceback": [
      "\u001b[0;31m---------------------------------------------------------------------------\u001b[0m",
      "\u001b[0;31mKeyError\u001b[0m                                  Traceback (most recent call last)",
      "\u001b[1;32m/Users/lwk/Documents/web_science/web_science/Session_5-Content_Based.ipynb Cell 13'\u001b[0m in \u001b[0;36m<module>\u001b[0;34m\u001b[0m\n\u001b[1;32m      <a href='vscode-notebook-cell:/Users/lwk/Documents/web_science/web_science/Session_5-Content_Based.ipynb#ch0000011?line=5'>6</a>\u001b[0m \u001b[39mfor\u001b[39;00m sentence \u001b[39min\u001b[39;00m sentences:\n\u001b[1;32m      <a href='vscode-notebook-cell:/Users/lwk/Documents/web_science/web_science/Session_5-Content_Based.ipynb#ch0000011?line=6'>7</a>\u001b[0m     \u001b[39mfor\u001b[39;00m word \u001b[39min\u001b[39;00m sentence:\n\u001b[1;32m      <a href='vscode-notebook-cell:/Users/lwk/Documents/web_science/web_science/Session_5-Content_Based.ipynb#ch0000011?line=7'>8</a>\u001b[0m         \u001b[39m# try:\u001b[39;00m\n\u001b[0;32m----> <a href='vscode-notebook-cell:/Users/lwk/Documents/web_science/web_science/Session_5-Content_Based.ipynb#ch0000011?line=8'>9</a>\u001b[0m         vector_list \u001b[39m+\u001b[39m\u001b[39m=\u001b[39m word2vec_vectors[word]\n",
      "File \u001b[0;32m/usr/local/lib/python3.9/site-packages/gensim/models/keyedvectors.py:395\u001b[0m, in \u001b[0;36mKeyedVectors.__getitem__\u001b[0;34m(self, key_or_keys)\u001b[0m\n\u001b[1;32m    <a href='file:///usr/local/lib/python3.9/site-packages/gensim/models/keyedvectors.py?line=380'>381</a>\u001b[0m \u001b[39m\"\"\"Get vector representation of `key_or_keys`.\u001b[39;00m\n\u001b[1;32m    <a href='file:///usr/local/lib/python3.9/site-packages/gensim/models/keyedvectors.py?line=381'>382</a>\u001b[0m \n\u001b[1;32m    <a href='file:///usr/local/lib/python3.9/site-packages/gensim/models/keyedvectors.py?line=382'>383</a>\u001b[0m \u001b[39mParameters\u001b[39;00m\n\u001b[0;32m   (...)\u001b[0m\n\u001b[1;32m    <a href='file:///usr/local/lib/python3.9/site-packages/gensim/models/keyedvectors.py?line=391'>392</a>\u001b[0m \n\u001b[1;32m    <a href='file:///usr/local/lib/python3.9/site-packages/gensim/models/keyedvectors.py?line=392'>393</a>\u001b[0m \u001b[39m\"\"\"\u001b[39;00m\n\u001b[1;32m    <a href='file:///usr/local/lib/python3.9/site-packages/gensim/models/keyedvectors.py?line=393'>394</a>\u001b[0m \u001b[39mif\u001b[39;00m \u001b[39misinstance\u001b[39m(key_or_keys, _KEY_TYPES):\n\u001b[0;32m--> <a href='file:///usr/local/lib/python3.9/site-packages/gensim/models/keyedvectors.py?line=394'>395</a>\u001b[0m     \u001b[39mreturn\u001b[39;00m \u001b[39mself\u001b[39;49m\u001b[39m.\u001b[39;49mget_vector(key_or_keys)\n\u001b[1;32m    <a href='file:///usr/local/lib/python3.9/site-packages/gensim/models/keyedvectors.py?line=396'>397</a>\u001b[0m \u001b[39mreturn\u001b[39;00m vstack([\u001b[39mself\u001b[39m\u001b[39m.\u001b[39mget_vector(key) \u001b[39mfor\u001b[39;00m key \u001b[39min\u001b[39;00m key_or_keys])\n",
      "File \u001b[0;32m/usr/local/lib/python3.9/site-packages/gensim/models/keyedvectors.py:438\u001b[0m, in \u001b[0;36mKeyedVectors.get_vector\u001b[0;34m(self, key, norm)\u001b[0m\n\u001b[1;32m    <a href='file:///usr/local/lib/python3.9/site-packages/gensim/models/keyedvectors.py?line=413'>414</a>\u001b[0m \u001b[39mdef\u001b[39;00m \u001b[39mget_vector\u001b[39m(\u001b[39mself\u001b[39m, key, norm\u001b[39m=\u001b[39m\u001b[39mFalse\u001b[39;00m):\n\u001b[1;32m    <a href='file:///usr/local/lib/python3.9/site-packages/gensim/models/keyedvectors.py?line=414'>415</a>\u001b[0m     \u001b[39m\"\"\"Get the key's vector, as a 1D numpy array.\u001b[39;00m\n\u001b[1;32m    <a href='file:///usr/local/lib/python3.9/site-packages/gensim/models/keyedvectors.py?line=415'>416</a>\u001b[0m \n\u001b[1;32m    <a href='file:///usr/local/lib/python3.9/site-packages/gensim/models/keyedvectors.py?line=416'>417</a>\u001b[0m \u001b[39m    Parameters\u001b[39;00m\n\u001b[0;32m   (...)\u001b[0m\n\u001b[1;32m    <a href='file:///usr/local/lib/python3.9/site-packages/gensim/models/keyedvectors.py?line=435'>436</a>\u001b[0m \n\u001b[1;32m    <a href='file:///usr/local/lib/python3.9/site-packages/gensim/models/keyedvectors.py?line=436'>437</a>\u001b[0m \u001b[39m    \"\"\"\u001b[39;00m\n\u001b[0;32m--> <a href='file:///usr/local/lib/python3.9/site-packages/gensim/models/keyedvectors.py?line=437'>438</a>\u001b[0m     index \u001b[39m=\u001b[39m \u001b[39mself\u001b[39;49m\u001b[39m.\u001b[39;49mget_index(key)\n\u001b[1;32m    <a href='file:///usr/local/lib/python3.9/site-packages/gensim/models/keyedvectors.py?line=438'>439</a>\u001b[0m     \u001b[39mif\u001b[39;00m norm:\n\u001b[1;32m    <a href='file:///usr/local/lib/python3.9/site-packages/gensim/models/keyedvectors.py?line=439'>440</a>\u001b[0m         \u001b[39mself\u001b[39m\u001b[39m.\u001b[39mfill_norms()\n",
      "File \u001b[0;32m/usr/local/lib/python3.9/site-packages/gensim/models/keyedvectors.py:412\u001b[0m, in \u001b[0;36mKeyedVectors.get_index\u001b[0;34m(self, key, default)\u001b[0m\n\u001b[1;32m    <a href='file:///usr/local/lib/python3.9/site-packages/gensim/models/keyedvectors.py?line=409'>410</a>\u001b[0m     \u001b[39mreturn\u001b[39;00m default\n\u001b[1;32m    <a href='file:///usr/local/lib/python3.9/site-packages/gensim/models/keyedvectors.py?line=410'>411</a>\u001b[0m \u001b[39melse\u001b[39;00m:\n\u001b[0;32m--> <a href='file:///usr/local/lib/python3.9/site-packages/gensim/models/keyedvectors.py?line=411'>412</a>\u001b[0m     \u001b[39mraise\u001b[39;00m \u001b[39mKeyError\u001b[39;00m(\u001b[39mf\u001b[39m\u001b[39m\"\u001b[39m\u001b[39mKey \u001b[39m\u001b[39m'\u001b[39m\u001b[39m{\u001b[39;00mkey\u001b[39m}\u001b[39;00m\u001b[39m'\u001b[39m\u001b[39m not present\u001b[39m\u001b[39m\"\u001b[39m)\n",
      "\u001b[0;31mKeyError\u001b[0m: \"Key 'velva' not present\""
     ]
    }
   ],
   "source": [
    "from nltk.tokenize import word_tokenize\n",
    "import numpy as np\n",
    "contentbaser = Contentbased_recommendation(df_1, df_2)\n",
    "sentences = [list(word_tokenize(title)) for title in contentbaser.clean_title]\n",
    "vector_list = []\n",
    "for sentence in sentences:\n",
    "    vector = np.zeros((300,))\n",
    "    for word in sentence:\n",
    "        try:\n",
    "            vector += word2vec_vectors[word]\n",
    "        except KeyError :\n",
    "            continue\n",
    "    vector_list.append(vector/len(sentence))\n",
    "item_word2vec_df = pd.DataFrame(np.array(vector_list),index=contentbaser.item_df['asin'])\n",
    "\n"
   ]
  }
 ],
 "metadata": {
  "kernelspec": {
   "display_name": "Python 3 (ipykernel)",
   "language": "python",
   "name": "python3"
  },
  "language_info": {
   "codemirror_mode": {
    "name": "ipython",
    "version": 3
   },
   "file_extension": ".py",
   "mimetype": "text/x-python",
   "name": "python",
   "nbconvert_exporter": "python",
   "pygments_lexer": "ipython3",
   "version": "3.9.7"
  }
 },
 "nbformat": 4,
 "nbformat_minor": 5
}
