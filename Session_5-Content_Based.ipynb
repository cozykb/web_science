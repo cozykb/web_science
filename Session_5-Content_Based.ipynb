{
 "cells": [
  {
   "cell_type": "markdown",
   "id": "ae6011ca",
   "metadata": {},
   "source": [
    "# Content-based recommendation"
   ]
  },
  {
   "cell_type": "markdown",
   "id": "4a455b8a",
   "metadata": {},
   "source": [
    "# Exercise 1\n",
    "Based on the TF-IDF vectors obtained in the Exercise 2 from Session 4, represent each user in the same vector space. Amongst other feasible solutions, you can represent a user (user profile) by computing the weighted mean of the items vectors. Compute the cosine similarity for user 'A39WWMBA0299ZF' and all products in the training set not rated by the user. What are the top-5 recommended items for user 'A39WWMBA0299ZF'? Print out the top-5 items and their similarity score.  "
   ]
  },
  {
   "cell_type": "code",
   "execution_count": 2,
   "id": "6de5e4ad",
   "metadata": {},
   "outputs": [],
   "source": [
    "from summary import Contentbased_recommendation, Evaluation\n",
    "import gzip\n",
    "import json\n",
    "import pandas as pd\n",
    "\n",
    "def getDF(path):\n",
    "    def parse(path):\n",
    "        g = gzip.open(path, 'rb')\n",
    "        for l in g:\n",
    "            yield json.loads(l)\n",
    "    i = 0\n",
    "    df = {}\n",
    "    for d in parse(path):\n",
    "        df[i] = d\n",
    "        i += 1\n",
    "    return pd.DataFrame.from_dict(df, orient='index')\n",
    "\n",
    "df_1 = getDF('All_Beauty_5.json.gz')\n",
    "df_2 = pd.read_json('meta_All_Beauty.json', lines=True)"
   ]
  },
  {
   "cell_type": "code",
   "execution_count": 3,
   "id": "b005e694",
   "metadata": {},
   "outputs": [],
   "source": [
    "preprocess = Contentbased_recommendation(ui_df=df_1, item_df=df_2)\n",
    "predicetion_list = preprocess.predection()\n",
    "evaluation = Evaluation(predicetion_list, df_1, df_2)"
   ]
  },
  {
   "cell_type": "code",
   "execution_count": 4,
   "id": "69af5fef",
   "metadata": {},
   "outputs": [
    {
     "name": "stdout",
     "output_type": "stream",
     "text": [
      "[('B019FWRG3C', array([0.4158461])), ('B00W259T7G', array([0.17710348])), ('B019809F9Y', array([0.10437818])), ('B00IJHY54S', array([0.08747406])), ('B0006O10P4', array([0.08561345]))]\n"
     ]
    }
   ],
   "source": [
    "print(evaluation.rank_k(uid='A39WWMBA0299ZF',rank=5))"
   ]
  },
  {
   "cell_type": "markdown",
   "id": "599f2bbe",
   "metadata": {},
   "source": [
    "# Exercise 2\n",
    "\n"
   ]
  },
  {
   "cell_type": "markdown",
   "id": "1a7805a3",
   "metadata": {},
   "source": [
    "Compute the systems’ hit rate based on the top-5, top-10 and top-20 recommendations, averaged over the total number of users. Remember that, as we are evaluating the system, you should compute the hit rate over the test set. How well/bad does this Content-based approach perform compared to the Collaborative Filtering?"
   ]
  },
  {
   "cell_type": "code",
   "execution_count": 5,
   "id": "dec627f5",
   "metadata": {},
   "outputs": [],
   "source": [
    "kr_mean_5 = evaluation.mean_k(5, 'hr_k')\n",
    "kr_mean_10 = evaluation.mean_k(10, 'hr_k')\n",
    "kr_mean_20 = evaluation.mean_k(20, 'hr_k')"
   ]
  },
  {
   "cell_type": "code",
   "execution_count": 6,
   "id": "dd4b23d1",
   "metadata": {},
   "outputs": [
    {
     "name": "stdout",
     "output_type": "stream",
     "text": [
      "0.4320337197049526\n",
      "0.45732349841938885\n",
      "0.5163329820864068\n"
     ]
    }
   ],
   "source": [
    "print(kr_mean_5)\n",
    "print(kr_mean_10)\n",
    "print(kr_mean_20)"
   ]
  },
  {
   "cell_type": "markdown",
   "id": "b1d74d43",
   "metadata": {},
   "source": [
    "# Exercise 3\n",
    "\n",
    "Repeat Exercise 1 and 2, this time representing the products and users in a word2vec vector space. You may use the gensim library and download the 300-dimension embeddings from Google. Source: https://radimrehurek.com/gensim/models/word2vec.html#pretrained-models"
   ]
  },
  {
   "cell_type": "code",
   "execution_count": 1,
   "id": "ca33a843",
   "metadata": {},
   "outputs": [
    {
     "name": "stdout",
     "output_type": "stream",
     "text": [
      "[--------------------------------------------------] 1.6% 26.3/1662.8MB downloaded"
     ]
    },
    {
     "ename": "KeyboardInterrupt",
     "evalue": "",
     "output_type": "error",
     "traceback": [
      "\u001b[0;31m---------------------------------------------------------------------------\u001b[0m",
      "\u001b[0;31mKeyboardInterrupt\u001b[0m                         Traceback (most recent call last)",
      "\u001b[1;32m/Users/lwk/Documents/web_science/web_science/Session_5-Content_Based.ipynb Cell 18'\u001b[0m in \u001b[0;36m<module>\u001b[0;34m\u001b[0m\n\u001b[1;32m      <a href='vscode-notebook-cell:/Users/lwk/Documents/web_science/web_science/Session_5-Content_Based.ipynb#ch0000017?line=0'>1</a>\u001b[0m \u001b[39mimport\u001b[39;00m \u001b[39mgensim\u001b[39;00m\u001b[39m.\u001b[39;00m\u001b[39mdownloader\u001b[39;00m\n\u001b[0;32m----> <a href='vscode-notebook-cell:/Users/lwk/Documents/web_science/web_science/Session_5-Content_Based.ipynb#ch0000017?line=1'>2</a>\u001b[0m word2vec_vectors \u001b[39m=\u001b[39m gensim\u001b[39m.\u001b[39;49mdownloader\u001b[39m.\u001b[39;49mload(\u001b[39m'\u001b[39;49m\u001b[39mword2vec-google-news-300\u001b[39;49m\u001b[39m'\u001b[39;49m)\n",
      "File \u001b[0;32m/usr/local/lib/python3.9/site-packages/gensim/downloader.py:496\u001b[0m, in \u001b[0;36mload\u001b[0;34m(name, return_path)\u001b[0m\n\u001b[1;32m    <a href='file:///usr/local/lib/python3.9/site-packages/gensim/downloader.py?line=493'>494</a>\u001b[0m path \u001b[39m=\u001b[39m os\u001b[39m.\u001b[39mpath\u001b[39m.\u001b[39mjoin(folder_dir, file_name)\n\u001b[1;32m    <a href='file:///usr/local/lib/python3.9/site-packages/gensim/downloader.py?line=494'>495</a>\u001b[0m \u001b[39mif\u001b[39;00m \u001b[39mnot\u001b[39;00m os\u001b[39m.\u001b[39mpath\u001b[39m.\u001b[39mexists(folder_dir):\n\u001b[0;32m--> <a href='file:///usr/local/lib/python3.9/site-packages/gensim/downloader.py?line=495'>496</a>\u001b[0m     _download(name)\n\u001b[1;32m    <a href='file:///usr/local/lib/python3.9/site-packages/gensim/downloader.py?line=497'>498</a>\u001b[0m \u001b[39mif\u001b[39;00m return_path:\n\u001b[1;32m    <a href='file:///usr/local/lib/python3.9/site-packages/gensim/downloader.py?line=498'>499</a>\u001b[0m     \u001b[39mreturn\u001b[39;00m path\n",
      "File \u001b[0;32m/usr/local/lib/python3.9/site-packages/gensim/downloader.py:396\u001b[0m, in \u001b[0;36m_download\u001b[0;34m(name)\u001b[0m\n\u001b[1;32m    <a href='file:///usr/local/lib/python3.9/site-packages/gensim/downloader.py?line=393'>394</a>\u001b[0m fname \u001b[39m=\u001b[39m \u001b[39m\"\u001b[39m\u001b[39m{fname}\u001b[39;00m\u001b[39m.gz\u001b[39m\u001b[39m\"\u001b[39m\u001b[39m.\u001b[39mformat(fname\u001b[39m=\u001b[39mname)\n\u001b[1;32m    <a href='file:///usr/local/lib/python3.9/site-packages/gensim/downloader.py?line=394'>395</a>\u001b[0m dst_path \u001b[39m=\u001b[39m os\u001b[39m.\u001b[39mpath\u001b[39m.\u001b[39mjoin(tmp_dir, fname)\n\u001b[0;32m--> <a href='file:///usr/local/lib/python3.9/site-packages/gensim/downloader.py?line=395'>396</a>\u001b[0m urllib\u001b[39m.\u001b[39;49murlretrieve(url_data, dst_path, reporthook\u001b[39m=\u001b[39;49m_progress)\n\u001b[1;32m    <a href='file:///usr/local/lib/python3.9/site-packages/gensim/downloader.py?line=396'>397</a>\u001b[0m \u001b[39mif\u001b[39;00m _calculate_md5_checksum(dst_path) \u001b[39m==\u001b[39m _get_checksum(name):\n\u001b[1;32m    <a href='file:///usr/local/lib/python3.9/site-packages/gensim/downloader.py?line=397'>398</a>\u001b[0m     sys\u001b[39m.\u001b[39mstdout\u001b[39m.\u001b[39mwrite(\u001b[39m\"\u001b[39m\u001b[39m\\n\u001b[39;00m\u001b[39m\"\u001b[39m)\n",
      "File \u001b[0;32m/usr/local/Cellar/python@3.9/3.9.7/Frameworks/Python.framework/Versions/3.9/lib/python3.9/urllib/request.py:271\u001b[0m, in \u001b[0;36murlretrieve\u001b[0;34m(url, filename, reporthook, data)\u001b[0m\n\u001b[1;32m    <a href='file:///usr/local/Cellar/python%403.9/3.9.7/Frameworks/Python.framework/Versions/3.9/lib/python3.9/urllib/request.py?line=268'>269</a>\u001b[0m \u001b[39mif\u001b[39;00m \u001b[39mnot\u001b[39;00m block:\n\u001b[1;32m    <a href='file:///usr/local/Cellar/python%403.9/3.9.7/Frameworks/Python.framework/Versions/3.9/lib/python3.9/urllib/request.py?line=269'>270</a>\u001b[0m     \u001b[39mbreak\u001b[39;00m\n\u001b[0;32m--> <a href='file:///usr/local/Cellar/python%403.9/3.9.7/Frameworks/Python.framework/Versions/3.9/lib/python3.9/urllib/request.py?line=270'>271</a>\u001b[0m read \u001b[39m+\u001b[39m\u001b[39m=\u001b[39m \u001b[39mlen\u001b[39m(block)\n\u001b[1;32m    <a href='file:///usr/local/Cellar/python%403.9/3.9.7/Frameworks/Python.framework/Versions/3.9/lib/python3.9/urllib/request.py?line=271'>272</a>\u001b[0m tfp\u001b[39m.\u001b[39mwrite(block)\n\u001b[1;32m    <a href='file:///usr/local/Cellar/python%403.9/3.9.7/Frameworks/Python.framework/Versions/3.9/lib/python3.9/urllib/request.py?line=272'>273</a>\u001b[0m blocknum \u001b[39m+\u001b[39m\u001b[39m=\u001b[39m \u001b[39m1\u001b[39m\n",
      "\u001b[0;31mKeyboardInterrupt\u001b[0m: "
     ]
    }
   ],
   "source": [
    "import gensim.downloader\n",
    "word2vec_vectors = gensim.downloader.load('word2vec-google-news-300')\n",
    "\n"
   ]
  }
 ],
 "metadata": {
  "kernelspec": {
   "display_name": "Python 3 (ipykernel)",
   "language": "python",
   "name": "python3"
  },
  "language_info": {
   "codemirror_mode": {
    "name": "ipython",
    "version": 3
   },
   "file_extension": ".py",
   "mimetype": "text/x-python",
   "name": "python",
   "nbconvert_exporter": "python",
   "pygments_lexer": "ipython3",
   "version": "3.9.7"
  }
 },
 "nbformat": 4,
 "nbformat_minor": 5
}
