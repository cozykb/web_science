{
 "cells": [
  {
   "cell_type": "code",
   "execution_count": 1,
   "metadata": {},
   "outputs": [],
   "source": [
    "import json\n",
    "import numpy as np\n",
    "import pandas as pd\n",
    "import gzip"
   ]
  },
  {
   "cell_type": "markdown",
   "metadata": {},
   "source": [
    "# Familiarize Yourself with the Dataset\n",
    "In the lab sessions, we will work with the \"All Beauty\" category of the Amazon Review Data, and we will use the 5-core subset. You can download the dataset and find information about it here: https://nijianmo.github.io/amazon/index.html"
   ]
  },
  {
   "cell_type": "markdown",
   "metadata": {},
   "source": [
    "## Exercise 1\n",
    "Download and import the 5-core dataset."
   ]
  },
  {
   "cell_type": "code",
   "execution_count": 2,
   "metadata": {},
   "outputs": [],
   "source": [
    "def parse(path):\n",
    "  g = gzip.open(path, 'rb')\n",
    "  for l in g:\n",
    "    yield json.loads(l)\n",
    "\n",
    "def getDF(path):\n",
    "  i = 0\n",
    "  df = {}\n",
    "  for d in parse(path):\n",
    "    df[i] = d\n",
    "    i += 1\n",
    "  return pd.DataFrame.from_dict(df, orient='index')\n",
    "\n",
    "df = getDF('All_Beauty_5.json.gz')"
   ]
  },
  {
   "cell_type": "markdown",
   "metadata": {},
   "source": [
    "## Exercise 2\n",
    "Clean the dataset from missing ratings and duplicates (cases where the same user has rated the same item multiple times) if any. How many observations does the cleaned dataset have?"
   ]
  },
  {
   "cell_type": "code",
   "execution_count": 11,
   "metadata": {},
   "outputs": [
    {
     "name": "stdout",
     "output_type": "stream",
     "text": [
      "4092\n"
     ]
    }
   ],
   "source": [
    "nonan_df = df.dropna(axis=0,subset = ['overall'])\n",
    "nonan_df = nonan_df.sort_values(['unixReviewTime'],ascending=False)\n",
    "norepeat_df = nonan_df.drop_duplicates(['reviewerID','asin'],keep='first')\n",
    "print(len(norepeat_df))"
   ]
  },
  {
   "cell_type": "markdown",
   "metadata": {},
   "source": [
    "## Exercise 3\n",
    "Create a test set by extracting the latest (in time) positively rated item (rating $\\geq 4$) by each user. Remove users that do not appear in the training set. How many observations does the training and test set have?"
   ]
  },
  {
   "cell_type": "code",
   "execution_count": 12,
   "metadata": {},
   "outputs": [],
   "source": [
    "\n",
    "\"\"\" grouped_id = norepeat_df.groupby('reviewerID').apply(lambda t: t[t.unixReviewTime==t.unixReviewTime.max()])\n",
    "grouped_id = [int(list(i)[1]) for i in grouped_id.index] \"\"\"\n",
    "test_set = norepeat_df[norepeat_df['overall']>=4]\n",
    "grouped_id = test_set.groupby('reviewerID')['unixReviewTime'].idxmax()\n",
    "test_set = test_set.loc[grouped_id]\n",
    "train_set = pd.concat([norepeat_df, test_set, test_set]).drop_duplicates(['reviewerID','asin'],keep=False)\n",
    "no_in_ID = [i for i in test_set.index if test_set['reviewerID'][i] not in list(train_set['reviewerID'])]\n",
    "test_set = pd.concat([test_set, test_set.loc[no_in_ID], test_set.loc[no_in_ID]]).drop_duplicates(['reviewerID','asin'],keep=False)\n"
   ]
  },
  {
   "cell_type": "markdown",
   "metadata": {},
   "source": [
    "## Exercise 4\n",
    "### 4.1\n",
    "Compute the number of ratings per user in the training set. What is the summary statistics of the number of ratings, and how does a histogram look like? <br>\n",
    "Reflect on how a collaborative filtering and a content-based recommender system, respectively, will perform for users with few ratings."
   ]
  },
  {
   "cell_type": "code",
   "execution_count": 13,
   "metadata": {},
   "outputs": [],
   "source": [
    "import matplotlib.pyplot as plt"
   ]
  },
  {
   "cell_type": "code",
   "execution_count": 14,
   "metadata": {},
   "outputs": [
    {
     "name": "stdout",
     "output_type": "stream",
     "text": [
      "mean = 3.193680\n",
      " std = 0.610143\n",
      " min_num = 1.000000\n",
      " max_num = 9.000000\n",
      " num_25 = 3.000000\n",
      " num_50 = 3.000000\n",
      " num_75 = 3.000000\n",
      "\n"
     ]
    }
   ],
   "source": [
    "#vote = train_set['vote'].apply(lambda i : int(float((i.replace(',',''))) if i == i else 0))\n",
    "train_id_of_account = train_set['reviewerID'].drop_duplicates(keep='first')\n",
    "train_num_of_vote_per_account = [len(train_set.loc[train_set['reviewerID'] == id]) for id in train_id_of_account]\n",
    "print('mean = %.6f\\n'%np.mean(train_num_of_vote_per_account),\n",
    "'std = %.6f\\n'%np.std(train_num_of_vote_per_account),\n",
    "'min_num = %.6f\\n'%np.min(train_num_of_vote_per_account),\n",
    "'max_num = %.6f\\n'%np.max(train_num_of_vote_per_account),\n",
    "'num_25 = %.6f\\n'%np.percentile(train_num_of_vote_per_account, 25),\n",
    "'num_50 = %.6f\\n'%np.percentile(train_num_of_vote_per_account, 50),\n",
    "'num_75 = %.6f\\n'%np.percentile(train_num_of_vote_per_account, 75))"
   ]
  },
  {
   "cell_type": "code",
   "execution_count": 20,
   "metadata": {},
   "outputs": [
    {
     "data": {
      "text/plain": [
       "(array([0.00510204, 0.04285714, 0.7377551 , 0.19591837, 0.01020408,\n",
       "        0.00816327]),\n",
       " array([1, 2, 3, 4, 5, 6, 7]),\n",
       " <BarContainer object of 6 artists>)"
      ]
     },
     "execution_count": 20,
     "metadata": {},
     "output_type": "execute_result"
    },
    {
     "data": {
      "image/png": "[encoded data removed]",
      "text/plain": [
       "<Figure size 432x288 with 1 Axes>"
      ]
     },
     "metadata": {
      "needs_background": "light"
     },
     "output_type": "display_data"
    }
   ],
   "source": [
    "plt.hist(train_num_of_vote_per_account,bins=[1,2,3,4,5,6,7],density=True)"
   ]
  },
  {
   "cell_type": "markdown",
   "metadata": {},
   "source": [
    "### 4.2\n",
    "Compute the number of ratings per item in the training set. How does a barplot of the number of ratings ordered by decreasing frequency look like? <br>\n",
    "Reflect on how it will affect the prediction process of a recommender system if only a small fraction of the items are rated frequently. <br>\n",
    "<br>\n",
    "Repeat this exercise on the test set and reflect on how the evaluation of a recommender system can be affected by popular items."
   ]
  },
  {
   "cell_type": "code",
   "execution_count": 16,
   "metadata": {},
   "outputs": [
    {
     "data": {
      "text/plain": [
       "<BarContainer object of 77 artists>"
      ]
     },
     "execution_count": 16,
     "metadata": {},
     "output_type": "execute_result"
    },
    {
     "data": {
      "image/png": "[encoded data removed]",
      "text/plain": [
       "<Figure size 432x288 with 1 Axes>"
      ]
     },
     "metadata": {
      "needs_background": "light"
     },
     "output_type": "display_data"
    }
   ],
   "source": [
    "train_id_of_item = train_set['asin'].drop_duplicates(keep='first')\n",
    "train_num_of_vote_per_item = [len(train_set.loc[train_set['asin'] == id]) for id in train_id_of_item]\n",
    "train_num_of_vote_per_item.sort()\n",
    "train_num_of_vote_per_item.reverse()\n",
    "plt.bar(range(len(train_num_of_vote_per_item)), train_num_of_vote_per_item)"
   ]
  },
  {
   "cell_type": "code",
   "execution_count": 17,
   "metadata": {},
   "outputs": [
    {
     "data": {
      "text/plain": [
       "<BarContainer object of 43 artists>"
      ]
     },
     "execution_count": 17,
     "metadata": {},
     "output_type": "execute_result"
    },
    {
     "data": {
      "image/png": "[encoded data removed]",
      "text/plain": [
       "<Figure size 432x288 with 1 Axes>"
      ]
     },
     "metadata": {
      "needs_background": "light"
     },
     "output_type": "display_data"
    }
   ],
   "source": [
    "test_id_of_item = test_set['asin'].drop_duplicates(keep='first')\n",
    "test_num_of_vote_per_item = [len(test_set.loc[test_set['asin'] == id]) for id in test_id_of_item]\n",
    "test_num_of_vote_per_item.sort()\n",
    "test_num_of_vote_per_item.reverse()\n",
    "plt.bar(range(len(test_num_of_vote_per_item)), test_num_of_vote_per_item)"
   ]
  },
  {
   "cell_type": "markdown",
   "metadata": {},
   "source": [
    "### 4.3\n",
    "Compute the mean rating per user in the training set. What is the summary statistics of the rating means, and how does a histogram look like? <br>\n",
    "Reflect on how a recommender system can take into account if different users rate on different \"scales\" (e.i. a rating of $3$ may be high for one user while low for another).<br>\n",
    "<br>\n",
    "Repeat this exercise with mean rating per item."
   ]
  },
  {
   "cell_type": "code",
   "execution_count": 18,
   "metadata": {},
   "outputs": [
    {
     "name": "stdout",
     "output_type": "stream",
     "text": [
      "mean = 4.765800\n",
      " std = 0.724105\n",
      " min_num = 1.000000\n",
      " max_num = 5.000000\n",
      " num_25 = 5.000000\n",
      " num_50 = 5.000000\n",
      " num_75 = 5.000000\n",
      "\n"
     ]
    }
   ],
   "source": [
    "train_id_of_account = train_set['reviewerID'].drop_duplicates(keep='first')\n",
    "train_rate_of_vote_per_account = [train_set.loc[train_set['reviewerID'] == id]['overall'].sum()/len(train_set.loc[train_set['reviewerID'] == id]) for id in train_id_of_account]\n",
    "print('mean = %.6f\\n'%np.mean(train_rate_of_vote_per_account),\n",
    "'std = %.6f\\n'%np.std(train_rate_of_vote_per_account),\n",
    "'min_num = %.6f\\n'%np.min(train_rate_of_vote_per_account),\n",
    "'max_num = %.6f\\n'%np.max(train_rate_of_vote_per_account),\n",
    "'num_25 = %.6f\\n'%np.percentile(train_rate_of_vote_per_account, 25),\n",
    "'num_50 = %.6f\\n'%np.percentile(train_rate_of_vote_per_account, 50),\n",
    "'num_75 = %.6f\\n'%np.percentile(train_rate_of_vote_per_account, 75))"
   ]
  },
  {
   "cell_type": "code",
   "execution_count": 19,
   "metadata": {},
   "outputs": [
    {
     "data": {
      "text/plain": [
       "(array([0.02140673, 0.01223242, 0.02752294, 0.08358818, 0.85524975]),\n",
       " array([1, 2, 3, 4, 5, 6]),\n",
       " <BarContainer object of 5 artists>)"
      ]
     },
     "execution_count": 19,
     "metadata": {},
     "output_type": "execute_result"
    },
    {
     "data": {
      "image/png": "[encoded data removed]",
      "text/plain": [
       "<Figure size 432x288 with 1 Axes>"
      ]
     },
     "metadata": {
      "needs_background": "light"
     },
     "output_type": "display_data"
    }
   ],
   "source": [
    "plt.hist(train_rate_of_vote_per_account,bins=[1,2,3,4,5,6],density=True)"
   ]
  },
  {
   "cell_type": "code",
   "execution_count": 168,
   "metadata": {},
   "outputs": [
    {
     "name": "stdout",
     "output_type": "stream",
     "text": [
      "mean = 4.239019\n",
      " std = 0.923015\n",
      " min_num = 1.000000\n",
      " max_num = 5.000000\n",
      " num_25 = 3.866776\n",
      " num_50 = 4.572727\n",
      " num_75 = 5.000000\n",
      "\n"
     ]
    }
   ],
   "source": [
    "train_id_of_item = train_set['asin'].drop_duplicates(keep='first')\n",
    "train_rate_of_vote_per_item = [train_set.loc[train_set['asin'] == id]['overall'].sum()/len(train_set.loc[train_set['asin'] == id]) for id in train_id_of_item]\n",
    "print('mean = %.6f\\n'%np.mean(train_rate_of_vote_per_item),\n",
    "'std = %.6f\\n'%np.std(train_rate_of_vote_per_item),\n",
    "'min_num = %.6f\\n'%np.min(train_rate_of_vote_per_item),\n",
    "'max_num = %.6f\\n'%np.max(train_rate_of_vote_per_item),\n",
    "'num_25 = %.6f\\n'%np.percentile(train_rate_of_vote_per_item, 25),\n",
    "'num_50 = %.6f\\n'%np.percentile(train_rate_of_vote_per_item, 50),\n",
    "'num_75 = %.6f\\n'%np.percentile(train_rate_of_vote_per_item, 75))"
   ]
  },
  {
   "cell_type": "code",
   "execution_count": 169,
   "metadata": {},
   "outputs": [
    {
     "data": {
      "text/plain": [
       "(array([0.02631579, 0.05263158, 0.18421053, 0.44736842, 0.28947368]),\n",
       " array([1, 2, 3, 4, 5, 6]),\n",
       " <BarContainer object of 5 artists>)"
      ]
     },
     "execution_count": 169,
     "metadata": {},
     "output_type": "execute_result"
    },
    {
     "data": {
      "image/png": "[encoded data removed]",
      "text/plain": [
       "<Figure size 432x288 with 1 Axes>"
      ]
     },
     "metadata": {
      "needs_background": "light"
     },
     "output_type": "display_data"
    }
   ],
   "source": [
    "plt.hist(train_rate_of_vote_per_item ,bins=[1,2,3,4,5,6],density=True)"
   ]
  }
 ],
 "metadata": {
  "kernelspec": {
   "display_name": "Python 3",
   "language": "python",
   "name": "python3"
  },
  "language_info": {
   "codemirror_mode": {
    "name": "ipython",
    "version": 3
   },
   "file_extension": ".py",
   "mimetype": "text/x-python",
   "name": "python",
   "nbconvert_exporter": "python",
   "pygments_lexer": "ipython3",
   "version": "3.9.7"
  }
 },
 "nbformat": 4,
 "nbformat_minor": 2
}
