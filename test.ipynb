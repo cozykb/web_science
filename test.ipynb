{
 "cells": [
  {
   "cell_type": "code",
   "execution_count": 3,
   "metadata": {},
   "outputs": [],
   "source": [
    "import pandas as pd\n",
    "import numpy as np"
   ]
  },
  {
   "cell_type": "code",
   "execution_count": 2,
   "metadata": {},
   "outputs": [],
   "source": [
    "list1 = [('B001W2Y5Q0', 5), ('B005IHT91Q', 5), ('B00IVFDZBC', 5)]\n",
    "list2 = [('B001W2Y5Q0', 5), ('B00IVFDZBC', 5), ('B005IHT91Q', 4), ('B00JC5Y6WM', 5)]\n",
    "list4 = [ ('B00IVFDZBC', 5), ('B005IHT91Q', 4), ('B00JC5Y6WM', 5),('B001W2Y5Q0', 6)]\n",
    "list3 = ['B001W2Y5Q0','B005IHT91Q','B00IVFDZBC','B00JC5Y6WM','B00JC5Y6W']"
   ]
  },
  {
   "cell_type": "code",
   "execution_count": 37,
   "metadata": {},
   "outputs": [
    {
     "name": "stdout",
     "output_type": "stream",
     "text": [
      "     A    B\n",
      "1  5.0  5.0\n",
      "2  1.0  3.0\n",
      "3  1.0  3.0\n"
     ]
    }
   ],
   "source": [
    "print(df1)"
   ]
  },
  {
   "cell_type": "code",
   "execution_count": 1,
   "metadata": {},
   "outputs": [
    {
     "name": "stdout",
     "output_type": "stream",
     "text": [
      "[1, 2, 3, 4, 5, 6, 9, 8]\n"
     ]
    }
   ],
   "source": [
    "list1 = [1,2,3,4,5,6,9,8,9]\n",
    "print(list1[:-1])"
   ]
  },
  {
   "cell_type": "code",
   "execution_count": 11,
   "metadata": {},
   "outputs": [
    {
     "name": "stdout",
     "output_type": "stream",
     "text": [
      "[0.1 1.  2.  4. ]\n"
     ]
    }
   ],
   "source": [
    "list5 = np.array([[0.1],[4],[1],[2]])\n",
    "print(np.sort([float(i) for i in list5]))"
   ]
  },
  {
   "cell_type": "code",
   "execution_count": 69,
   "metadata": {},
   "outputs": [
    {
     "name": "stdout",
     "output_type": "stream",
     "text": [
      "[0.1 0.2]\n",
      "[1. 2.]\n"
     ]
    }
   ],
   "source": [
    "for i in list5:\n",
    "    print(i)"
   ]
  },
  {
   "cell_type": "code",
   "execution_count": 48,
   "metadata": {},
   "outputs": [
    {
     "name": "stdout",
     "output_type": "stream",
     "text": [
      "[0.   1.25 1.25 2.5  3.75 5.  ]\n"
     ]
    }
   ],
   "source": [
    "print((list5-list5.min())/(list5.max()-list5.min())*5)"
   ]
  },
  {
   "cell_type": "code",
   "execution_count": 7,
   "metadata": {},
   "outputs": [],
   "source": [
    "df1 = pd.DataFrame(dict(list1),index=['hhh'])"
   ]
  },
  {
   "cell_type": "code",
   "execution_count": 8,
   "metadata": {},
   "outputs": [
    {
     "name": "stdout",
     "output_type": "stream",
     "text": [
      "     B001W2Y5Q0  B005IHT91Q  B00IVFDZBC\n",
      "hhh           5           5           5\n"
     ]
    }
   ],
   "source": [
    "print(df1)"
   ]
  },
  {
   "cell_type": "code",
   "execution_count": 66,
   "metadata": {},
   "outputs": [
    {
     "name": "stdout",
     "output_type": "stream",
     "text": [
      "            0\n",
      "B001W2Y5Q0  5\n",
      "B00IVFDZBC  5\n",
      "B005IHT91Q  4\n",
      "B00JC5Y6WM  5\n",
      "3.3333333333333335\n"
     ]
    }
   ],
   "source": [
    "df1 = pd.DataFrame.from_dict(dict(list1),orient='index')\n",
    "df3 = pd.DataFrame.from_dict(dict(list2),orient='index')\n",
    "df4 = pd.DataFrame.from_dict(dict(list4),orient='index')\n",
    "print(df3)\n",
    "df2 = pd.DataFrame(index=list3)\n",
    "df2 = df2.join(df1)\n",
    "df2 = df2.join(df3, rsuffix=\"_\")\n",
    "df2 = df2.join(df4, rsuffix=\"_\")\n",
    "df2.columns=[1,2,3]\n",
    "print(np.mean(df2.fillna(0).to_numpy()[3]))\n"
   ]
  },
  {
   "cell_type": "code",
   "execution_count": 8,
   "metadata": {},
   "outputs": [
    {
     "name": "stdout",
     "output_type": "stream",
     "text": [
      "nan\n"
     ]
    }
   ],
   "source": [
    "print(df2.loc['B00JC5Y6WM',1]+df2.loc['B00JC5Y6WM',2])"
   ]
  },
  {
   "cell_type": "code",
   "execution_count": null,
   "metadata": {},
   "outputs": [],
   "source": []
  }
 ],
 "metadata": {
  "interpreter": {
   "hash": "aee8b7b246df8f9039afb4144a1f6fd8d2ca17a180786b69acc140d282b71a49"
  },
  "kernelspec": {
   "display_name": "Python 3.9.7 64-bit",
   "language": "python",
   "name": "python3"
  },
  "language_info": {
   "codemirror_mode": {
    "name": "ipython",
    "version": 3
   },
   "file_extension": ".py",
   "mimetype": "text/x-python",
   "name": "python",
   "nbconvert_exporter": "python",
   "pygments_lexer": "ipython3",
   "version": "3.9.7"
  },
  "orig_nbformat": 4
 },
 "nbformat": 4,
 "nbformat_minor": 2
}
