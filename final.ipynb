{
 "cells": [
  {
   "cell_type": "code",
   "execution_count": 1,
   "metadata": {},
   "outputs": [
    {
     "name": "stdout",
     "output_type": "stream",
     "text": [
      "Using device: cpu\n"
     ]
    },
    {
     "name": "stderr",
     "output_type": "stream",
     "text": [
      "[nltk_data] Downloading package punkt to /Users/lwk/nltk_data...\n",
      "[nltk_data]   Package punkt is already up-to-date!\n",
      "[nltk_data] Downloading package stopwords to /Users/lwk/nltk_data...\n",
      "[nltk_data]   Package stopwords is already up-to-date!\n"
     ]
    }
   ],
   "source": [
    "import summary as msy\n",
    "# my self-make recommend system package\n",
    "# make sure you put summary.py in the same dictionary with this jupyter notbook\n",
    "import numpy as np\n",
    "import pandas as pd\n",
    "import importlib\n",
    "from sklearn.metrics.pairwise import cosine_similarity\n"
   ]
  },
  {
   "cell_type": "code",
   "execution_count": 2,
   "metadata": {},
   "outputs": [
    {
     "name": "stdout",
     "output_type": "stream",
     "text": [
      "Using device: cpu\n"
     ]
    },
    {
     "name": "stderr",
     "output_type": "stream",
     "text": [
      "[nltk_data] Downloading package punkt to /Users/lwk/nltk_data...\n",
      "[nltk_data]   Package punkt is already up-to-date!\n",
      "[nltk_data] Downloading package stopwords to /Users/lwk/nltk_data...\n",
      "[nltk_data]   Package stopwords is already up-to-date!\n"
     ]
    },
    {
     "data": {
      "text/plain": [
       "<module 'summary' from '/Users/lwk/Documents/web_science/web_science/summary.py'>"
      ]
     },
     "execution_count": 2,
     "metadata": {},
     "output_type": "execute_result"
    }
   ],
   "source": [
    "'''this line is used in test for reload the summary.py'''\n",
    "# importlib.reload(msy)\n"
   ]
  },
  {
   "cell_type": "markdown",
   "metadata": {},
   "source": [
    "### load dataset"
   ]
  },
  {
   "cell_type": "code",
   "execution_count": 3,
   "metadata": {},
   "outputs": [],
   "source": [
    "df_1, df_2 = msy.ini('Software_5.json', 'meta_Software.json')\n"
   ]
  },
  {
   "cell_type": "markdown",
   "metadata": {},
   "source": [
    "# Part 1 Preprocess"
   ]
  },
  {
   "cell_type": "markdown",
   "metadata": {},
   "source": [
    "initial the class for preprocess"
   ]
  },
  {
   "cell_type": "code",
   "execution_count": 4,
   "metadata": {},
   "outputs": [],
   "source": [
    "preprocess = msy.Preprocess(df_1, df_2)\n"
   ]
  },
  {
   "cell_type": "markdown",
   "metadata": {},
   "source": [
    "Overall description for training set group by user ID"
   ]
  },
  {
   "cell_type": "code",
   "execution_count": 4,
   "metadata": {},
   "outputs": [
    {
     "data": {
      "text/plain": [
       "count    1824.000000\n",
       "mean        5.576206\n",
       "std         3.488828\n",
       "min         1.000000\n",
       "25%         4.000000\n",
       "50%         5.000000\n",
       "75%         6.000000\n",
       "max        51.000000\n",
       "Name: overall, dtype: float64"
      ]
     },
     "execution_count": 4,
     "metadata": {},
     "output_type": "execute_result"
    }
   ],
   "source": [
    "training_des = preprocess.training_data.groupby(['reviewerID']).count()\n",
    "training_des.overall.describe()\n"
   ]
  },
  {
   "cell_type": "markdown",
   "metadata": {},
   "source": [
    "Overall description for test set group by user ID"
   ]
  },
  {
   "cell_type": "code",
   "execution_count": 5,
   "metadata": {},
   "outputs": [
    {
     "data": {
      "text/plain": [
       "count    1711.0\n",
       "mean        1.0\n",
       "std         0.0\n",
       "min         1.0\n",
       "25%         1.0\n",
       "50%         1.0\n",
       "75%         1.0\n",
       "max         1.0\n",
       "Name: overall, dtype: float64"
      ]
     },
     "execution_count": 5,
     "metadata": {},
     "output_type": "execute_result"
    }
   ],
   "source": [
    "test_des = preprocess.test_data.groupby(['reviewerID']).count()\n",
    "test_des.overall.describe()\n"
   ]
  },
  {
   "cell_type": "markdown",
   "metadata": {},
   "source": [
    "Overall description for training set group by asin"
   ]
  },
  {
   "cell_type": "code",
   "execution_count": 6,
   "metadata": {},
   "outputs": [
    {
     "data": {
      "text/plain": [
       "count    800.000000\n",
       "mean      12.713750\n",
       "std       16.234801\n",
       "min        1.000000\n",
       "25%        5.000000\n",
       "50%        9.500000\n",
       "75%       17.000000\n",
       "max      226.000000\n",
       "Name: overall, dtype: float64"
      ]
     },
     "execution_count": 6,
     "metadata": {},
     "output_type": "execute_result"
    }
   ],
   "source": [
    "trainingit_des = preprocess.training_data.groupby(['asin']).count()\n",
    "trainingit_des.overall.describe()\n"
   ]
  },
  {
   "cell_type": "markdown",
   "metadata": {},
   "source": [
    "Show the most popular top5 items, and the items with top5 hightest mean rate"
   ]
  },
  {
   "cell_type": "code",
   "execution_count": 7,
   "metadata": {},
   "outputs": [
    {
     "name": "stdout",
     "output_type": "stream",
     "text": [
      "           asin  count  mean rate\n",
      "50   B0001FS9NE    226   4.929204\n",
      "18   B000050ZRE    226   4.929204\n",
      "41   B0000AZJY6    224   4.928571\n",
      "560  B00EZPXYP4     91   4.384615\n",
      "569  B00F8K9MZQ     66   4.318182\n",
      "           asin  count  mean rate\n",
      "214  B0015CA9VW      1        5.0\n",
      "217  B0015T5Q86      3        5.0\n",
      "213  B0014ZQMXO      2        5.0\n",
      "206  B0014A2LJ8      1        5.0\n",
      "191  B0013MCZRK      2        5.0\n"
     ]
    }
   ],
   "source": [
    "trainingit_head = preprocess.training_data.groupby(\n",
    "    ['asin']).size().reset_index(name='count')\n",
    "trainingit_head['mean rate'] = list(\n",
    "    preprocess.training_data.groupby(['asin'])['overall'].mean())\n",
    "print(trainingit_head.sort_values(['count'], ascending=False)\n",
    "      .head(5))\n",
    "print(trainingit_head.sort_values(['mean rate'], ascending=False)\n",
    "      .head(5))\n"
   ]
  },
  {
   "cell_type": "markdown",
   "metadata": {},
   "source": [
    "# Part 2 Collaborative filtering recommendation"
   ]
  },
  {
   "cell_type": "markdown",
   "metadata": {},
   "source": [
    "initial the class for Collaborative filtering recommendation"
   ]
  },
  {
   "cell_type": "code",
   "execution_count": 5,
   "metadata": {},
   "outputs": [],
   "source": [
    "coll_recommend = msy.Collaborativefiltering_recommendation(reuse=preprocess)\n"
   ]
  },
  {
   "cell_type": "markdown",
   "metadata": {},
   "source": [
    " 3-fold cross-validation"
   ]
  },
  {
   "cell_type": "code",
   "execution_count": 6,
   "metadata": {},
   "outputs": [
    {
     "name": "stdout",
     "output_type": "stream",
     "text": [
      "Computing the msd similarity matrix...\n",
      "Computing the msd similarity matrix...\n",
      "Computing the cosine similarity matrix...\n",
      "Computing the cosine similarity matrix...\n",
      "Computing the msd similarity matrix...\n",
      "Computing the pearson similarity matrix...\n",
      "Computing the cosine similarity matrix...\n",
      "Computing the pearson similarity matrix...\n",
      "Done computing similarity matrix.\n",
      "Done computing similarity matrix.\n",
      "Done computing similarity matrix.\n",
      "Computing the pearson similarity matrix...\n",
      "Estimating biases using als...\n",
      "Computing the pearson_baseline similarity matrix...\n",
      "Done computing similarity matrix.\n",
      "Estimating biases using als...\n",
      "Computing the pearson_baseline similarity matrix...\n",
      "Done computing similarity matrix.\n",
      "Done computing similarity matrix.\n",
      "Done computing similarity matrix.\n",
      "Done computing similarity matrix.\n",
      "Done computing similarity matrix.\n",
      "Estimating biases using als...\n",
      "Computing the pearson_baseline similarity matrix...\n",
      "Computing the msd similarity matrix...\n",
      "Computing the msd similarity matrix...\n",
      "Done computing similarity matrix.\n",
      "Computing the msd similarity matrix...\n",
      "Computing the cosine similarity matrix...\n",
      "Done computing similarity matrix.\n",
      "Computing the cosine similarity matrix...\n",
      "Done computing similarity matrix.\n",
      "Done computing similarity matrix.\n",
      "Done computing similarity matrix.\n",
      "Done computing similarity matrix.\n",
      "Computing the cosine similarity matrix...\n",
      "Computing the pearson similarity matrix...\n",
      "Computing the pearson similarity matrix...\n",
      "Computing the pearson similarity matrix...\n",
      "Done computing similarity matrix.\n",
      "Done computing similarity matrix.\n",
      "Estimating biases using als...\n",
      "Estimating biases using als...\n",
      "Computing the pearson_baseline similarity matrix...\n",
      "Computing the pearson_baseline similarity matrix...\n",
      "Done computing similarity matrix.\n",
      "Estimating biases using als...\n",
      "Computing the msd similarity matrix...\n",
      "Computing the pearson_baseline similarity matrix...\n",
      "Done computing similarity matrix.\n",
      "Done computing similarity matrix.\n",
      "Computing the msd similarity matrix...\n",
      "Done computing similarity matrix.\n",
      "Done computing similarity matrix.\n",
      "Done computing similarity matrix.\n",
      "Done computing similarity matrix.\n",
      "Done computing similarity matrix.\n",
      "Done computing similarity matrix.\n",
      "Computing the msd similarity matrix...\n",
      "Computing the cosine similarity matrix...\n",
      "Computing the cosine similarity matrix...\n",
      "Computing the cosine similarity matrix...\n",
      "Done computing similarity matrix.\n",
      "Computing the pearson similarity matrix...\n",
      "Computing the pearson similarity matrix...\n",
      "Computing the pearson similarity matrix...\n",
      "Estimating biases using als...\n",
      "Computing the pearson_baseline similarity matrix...\n",
      "Estimating biases using als...\n",
      "Done computing similarity matrix.\n",
      "Computing the pearson_baseline similarity matrix...\n",
      "Done computing similarity matrix.\n",
      "Done computing similarity matrix.\n",
      "Done computing similarity matrix.\n",
      "Done computing similarity matrix.\n",
      "Done computing similarity matrix.\n",
      "Estimating biases using als...\n",
      "Done computing similarity matrix.\n",
      "Computing the msd similarity matrix...\n",
      "Computing the pearson_baseline similarity matrix...\n",
      "Done computing similarity matrix.\n",
      "Computing the msd similarity matrix...\n",
      "Computing the msd similarity matrix...\n",
      "Done computing similarity matrix.\n",
      "Computing the cosine similarity matrix...\n",
      "Done computing similarity matrix.\n",
      "Computing the cosine similarity matrix...\n",
      "Computing the cosine similarity matrix...\n",
      "Done computing similarity matrix.\n",
      "Done computing similarity matrix.\n",
      "Computing the pearson similarity matrix...\n",
      "Computing the pearson similarity matrix...\n",
      "Computing the pearson similarity matrix...\n",
      "Estimating biases using als...\n",
      "Computing the pearson_baseline similarity matrix...\n",
      "Done computing similarity matrix.\n",
      "Estimating biases using als...\n",
      "Computing the pearson_baseline similarity matrix...\n",
      "Done computing similarity matrix.\n",
      "Done computing similarity matrix.\n",
      "Done computing similarity matrix.\n",
      "Done computing similarity matrix.\n",
      "Done computing similarity matrix.\n",
      "Estimating biases using als...\n",
      "Computing the pearson_baseline similarity matrix...\n",
      "Done computing similarity matrix.\n",
      "Done computing similarity matrix.\n",
      "Done computing similarity matrix.\n"
     ]
    }
   ],
   "source": [
    "gs_knn = coll_recommend.gridsearch('knn')\n",
    "gs_svd = coll_recommend.gridsearch('svd')\n"
   ]
  },
  {
   "cell_type": "markdown",
   "metadata": {},
   "source": [
    "show the best parameter and RMSE score.\n",
    "<font color=red>Warning</font>\n",
    "In SVD probably due to the small gap between parameters (800, 50) and parameters (100, 10), when you try to rerun the code it is possible that the grid experiment will give another set of parameters as optimal"
   ]
  },
  {
   "cell_type": "code",
   "execution_count": 7,
   "metadata": {},
   "outputs": [
    {
     "name": "stdout",
     "output_type": "stream",
     "text": [
      "{'rmse': 1.2111196043039298}\n",
      "{'k': 5, 'sim_options': {'name': 'pearson', 'user_based': True}}\n",
      "{'rmse': 1.1417805477603624}\n",
      "{'n_epochs': 800, 'n_factors': 50, 'random_state': 0}\n"
     ]
    }
   ],
   "source": [
    "print(gs_knn.best_score)\n",
    "print(gs_knn.best_params['rmse'])\n",
    "print(gs_svd.best_score)\n",
    "print(gs_svd.best_params['rmse'])\n"
   ]
  },
  {
   "cell_type": "markdown",
   "metadata": {},
   "source": [
    "set svd and knn with best parameter and fit them with the training data "
   ]
  },
  {
   "cell_type": "code",
   "execution_count": 7,
   "metadata": {},
   "outputs": [
    {
     "name": "stdout",
     "output_type": "stream",
     "text": [
      "Computing the pearson similarity matrix...\n",
      "Done computing similarity matrix.\n"
     ]
    }
   ],
   "source": [
    "knn_est, knn_model = coll_recommend.knn(\n",
    "    k=5, sim_options={'name': 'pearson', 'user_based': True})\n",
    "svd_est, svd_model = coll_recommend.svd(\n",
    "    n_epochs=800, n_factors=50, random_state=0)\n"
   ]
  },
  {
   "cell_type": "markdown",
   "metadata": {},
   "source": [
    "## Part 3 Evaluation of Recommender Systems"
   ]
  },
  {
   "cell_type": "markdown",
   "metadata": {},
   "source": [
    "initial the class for evaluation"
   ]
  },
  {
   "cell_type": "code",
   "execution_count": 8,
   "metadata": {},
   "outputs": [],
   "source": [
    "knn_evalue = msy.Evaluation(knn_est, reuse=preprocess)\n",
    "svd_evalue = msy.Evaluation(svd_est, reuse=preprocess)\n"
   ]
  },
  {
   "cell_type": "markdown",
   "metadata": {},
   "source": [
    "MP@k, MAP@k, MRR@k, MHR@k for knn model"
   ]
  },
  {
   "cell_type": "code",
   "execution_count": 10,
   "metadata": {},
   "outputs": [
    {
     "name": "stdout",
     "output_type": "stream",
     "text": [
      "knn mpk+  0.003741\n",
      "knn mapk+ 0.008816\n",
      "knn mrrk+ 0.008816\n",
      "knn hrk+  0.018703\n"
     ]
    }
   ],
   "source": [
    "print('knn mpk+  {:.6f}'.format(knn_evalue.mean_k(5, 'p_k')))\n",
    "print('knn mapk+ {:.6f}'.format(knn_evalue.mean_k(5, 'ap_k')))\n",
    "print('knn mrrk+ {:.6f}'.format(knn_evalue.mean_k(5, 'rr_k')))\n",
    "print('knn hrk+  {:.6f}'.format(knn_evalue.mean_k(5, 'hr_k')))\n"
   ]
  },
  {
   "cell_type": "markdown",
   "metadata": {},
   "source": [
    "MP@k, MAP@k, MRR@k, MHR@k for svd model"
   ]
  },
  {
   "cell_type": "code",
   "execution_count": 11,
   "metadata": {},
   "outputs": [
    {
     "name": "stdout",
     "output_type": "stream",
     "text": [
      "svd mpk+  0.001870\n",
      "svd mapk+ 0.003078\n",
      "svd mrrk+ 0.003078\n",
      "svd hrk+  0.009351\n"
     ]
    }
   ],
   "source": [
    "print('svd mpk+  {:.6f}'.format(svd_evalue.mean_k(5, 'p_k')))\n",
    "print('svd mapk+ {:.6f}'.format(svd_evalue.mean_k(5, 'ap_k')))\n",
    "print('svd mrrk+ {:.6f}'.format(svd_evalue.mean_k(5, 'rr_k')))\n",
    "print('svd hrk+  {:.6f}'.format(svd_evalue.mean_k(5, 'hr_k')))\n"
   ]
  },
  {
   "cell_type": "markdown",
   "metadata": {},
   "source": [
    "rsme for knn and svd model"
   ]
  },
  {
   "cell_type": "code",
   "execution_count": 12,
   "metadata": {},
   "outputs": [
    {
     "name": "stdout",
     "output_type": "stream",
     "text": [
      "RMSE: 0.9793\n",
      "knn rmse+ 0.9793299211533906\n",
      "RMSE: 0.7191\n",
      "svd rmse+ 0.7190771856550636\n"
     ]
    }
   ],
   "source": [
    "print('knn rmse+ {}'.format(knn_evalue.rmse()))\n",
    "print('svd rmse+ {}'.format(svd_evalue.rmse()))\n"
   ]
  },
  {
   "cell_type": "markdown",
   "metadata": {},
   "source": [
    "extract the first and the last user together with their 10 nearest neighbor"
   ]
  },
  {
   "cell_type": "code",
   "execution_count": 9,
   "metadata": {},
   "outputs": [],
   "source": [
    "\n",
    "first_uid = coll_recommend.surprice_training.build_full_trainset().\\\n",
    "    to_inner_uid(list(coll_recommend.test_data.sort_values(\n",
    "        by='unixReviewTime')['reviewerID'])[0])\n",
    "last_uid = coll_recommend.surprice_training.build_full_trainset().\\\n",
    "    to_inner_uid(list(coll_recommend.test_data.sort_values(\n",
    "        by='unixReviewTime')['reviewerID'])[-1])\n",
    "nnfor_fisrt = [list(coll_recommend.test_data.sort_values(\n",
    "    by='unixReviewTime')['reviewerID'])[0]]+[coll_recommend.surprice_training.build_full_trainset().\n",
    "                                             to_raw_uid(i) for i in knn_model.get_neighbors(first_uid, 10)]\n",
    "nnfor_last = [list(coll_recommend.test_data.sort_values(\n",
    "    by='unixReviewTime')['reviewerID'])[-1]]+[coll_recommend.surprice_training.build_full_trainset().\n",
    "                                              to_raw_uid(i) for i in knn_model.get_neighbors(last_uid, 10)]\n"
   ]
  },
  {
   "cell_type": "markdown",
   "metadata": {},
   "source": [
    "customize a new user item matrix with first/last user and it's neighbor"
   ]
  },
  {
   "cell_type": "code",
   "execution_count": 10,
   "metadata": {},
   "outputs": [],
   "source": [
    "first_user_nn10_matrix = coll_recommend.customer_ui_matrix(\n",
    "    user_list=nnfor_fisrt)\n",
    "last_user_nn10_matrix = coll_recommend.customer_ui_matrix(user_list=nnfor_last)\n"
   ]
  },
  {
   "cell_type": "markdown",
   "metadata": {},
   "source": [
    "print their rating history"
   ]
  },
  {
   "cell_type": "code",
   "execution_count": 11,
   "metadata": {},
   "outputs": [
    {
     "name": "stdout",
     "output_type": "stream",
     "text": [
      "asin           B005S4Y65I B009CCVMO0 B00F8K9KZS B00BR082FW B000UJUJ7U  \\\n",
      "A2G0O4Y8QE10AE        NaN        NaN        NaN        NaN        NaN   \n",
      "A100UD67AHFODS          5          5          5          5        NaN   \n",
      "A105S56ODHGJEK        NaN        NaN        NaN        NaN          3   \n",
      "A1075X1Q4M3S78        NaN        NaN        NaN        NaN        NaN   \n",
      "A10C5CJK1YKGV0        NaN        NaN        NaN        NaN        NaN   \n",
      "A10CRW7XRJBJ2G        NaN        NaN        NaN        NaN        NaN   \n",
      "A10EIJM2C94M14        NaN        NaN        NaN        NaN        NaN   \n",
      "A10G3LHNAK4GEH        NaN        NaN        NaN        NaN        NaN   \n",
      "A10G4BPT5MGBHY        NaN        NaN        NaN        NaN        NaN   \n",
      "A10GU5NVTA5I67        NaN        NaN        NaN        NaN        NaN   \n",
      "A10NC6ZVVMBHNH        NaN        NaN        NaN        NaN        NaN   \n",
      "\n",
      "asin           B0013O54OE B001AFFZM2 B001EJQTUG B001UO8M8M B001W2Y5Q0  ...  \\\n",
      "A2G0O4Y8QE10AE        NaN        NaN        NaN        NaN        NaN  ...   \n",
      "A100UD67AHFODS        NaN        NaN        NaN        NaN        NaN  ...   \n",
      "A105S56ODHGJEK          1          5          4          5          5  ...   \n",
      "A1075X1Q4M3S78        NaN        NaN        NaN        NaN        NaN  ...   \n",
      "A10C5CJK1YKGV0        NaN          4        NaN        NaN        NaN  ...   \n",
      "A10CRW7XRJBJ2G        NaN        NaN        NaN        NaN        NaN  ...   \n",
      "A10EIJM2C94M14        NaN        NaN        NaN        NaN        NaN  ...   \n",
      "A10G3LHNAK4GEH        NaN        NaN        NaN        NaN        NaN  ...   \n",
      "A10G4BPT5MGBHY        NaN        NaN        NaN        NaN        NaN  ...   \n",
      "A10GU5NVTA5I67        NaN        NaN        NaN        NaN        NaN  ...   \n",
      "A10NC6ZVVMBHNH        NaN        NaN        NaN        NaN        NaN  ...   \n",
      "\n",
      "asin           B000XIH9R6 B000ZH8YM4 B000Z3GSXK B0017UBJBG B000ZQAS0Q  \\\n",
      "A2G0O4Y8QE10AE        NaN        NaN        NaN        NaN        NaN   \n",
      "A100UD67AHFODS        NaN        NaN        NaN        NaN        NaN   \n",
      "A105S56ODHGJEK        NaN        NaN        NaN        NaN        NaN   \n",
      "A1075X1Q4M3S78        NaN        NaN        NaN        NaN        NaN   \n",
      "A10C5CJK1YKGV0        NaN        NaN        NaN        NaN        NaN   \n",
      "A10CRW7XRJBJ2G        NaN        NaN        NaN        NaN        NaN   \n",
      "A10EIJM2C94M14        NaN        NaN        NaN        NaN        NaN   \n",
      "A10G3LHNAK4GEH        NaN        NaN        NaN        NaN        NaN   \n",
      "A10G4BPT5MGBHY        NaN        NaN        NaN        NaN        NaN   \n",
      "A10GU5NVTA5I67        NaN        NaN        NaN        NaN        NaN   \n",
      "A10NC6ZVVMBHNH        NaN        NaN        NaN        NaN        NaN   \n",
      "\n",
      "asin           B00113N12E B0013YFI68 B0011DM0IA B000XS9YJW B00132DENO  \n",
      "A2G0O4Y8QE10AE        NaN        NaN        NaN        NaN        NaN  \n",
      "A100UD67AHFODS        NaN        NaN        NaN        NaN        NaN  \n",
      "A105S56ODHGJEK        NaN        NaN        NaN        NaN        NaN  \n",
      "A1075X1Q4M3S78        NaN        NaN        NaN        NaN        NaN  \n",
      "A10C5CJK1YKGV0        NaN        NaN        NaN        NaN        NaN  \n",
      "A10CRW7XRJBJ2G        NaN        NaN        NaN        NaN        NaN  \n",
      "A10EIJM2C94M14        NaN        NaN        NaN        NaN        NaN  \n",
      "A10G3LHNAK4GEH        NaN        NaN        NaN        NaN        NaN  \n",
      "A10G4BPT5MGBHY        NaN        NaN        NaN        NaN        NaN  \n",
      "A10GU5NVTA5I67        NaN        NaN        NaN        NaN        NaN  \n",
      "A10NC6ZVVMBHNH        NaN        NaN        NaN        NaN        NaN  \n",
      "\n",
      "[11 rows x 800 columns]\n"
     ]
    }
   ],
   "source": [
    "print(first_user_nn10_matrix)\n"
   ]
  },
  {
   "cell_type": "code",
   "execution_count": 12,
   "metadata": {},
   "outputs": [
    {
     "name": "stdout",
     "output_type": "stream",
     "text": [
      "asin           B005S4Y65I B009CCVMO0 B00F8K9KZS B00BR082FW B000UJUJ7U  \\\n",
      "A2SACTIFMC5DXO        NaN        NaN        NaN        NaN        NaN   \n",
      "A23E9QQHJLNGUI        NaN        NaN        NaN        NaN        NaN   \n",
      "A2DV14M0BC6YY1        NaN        NaN        NaN        NaN        NaN   \n",
      "A100UD67AHFODS          5          5          5          5        NaN   \n",
      "A105S56ODHGJEK        NaN        NaN        NaN        NaN          3   \n",
      "A1075X1Q4M3S78        NaN        NaN        NaN        NaN        NaN   \n",
      "A10C5CJK1YKGV0        NaN        NaN        NaN        NaN        NaN   \n",
      "A10CRW7XRJBJ2G        NaN        NaN        NaN        NaN        NaN   \n",
      "A10EIJM2C94M14        NaN        NaN        NaN        NaN        NaN   \n",
      "A10G3LHNAK4GEH        NaN        NaN        NaN        NaN        NaN   \n",
      "A10G4BPT5MGBHY        NaN        NaN        NaN        NaN        NaN   \n",
      "\n",
      "asin           B0013O54OE B001AFFZM2 B001EJQTUG B001UO8M8M B001W2Y5Q0  ...  \\\n",
      "A2SACTIFMC5DXO        NaN        NaN        NaN        NaN        NaN  ...   \n",
      "A23E9QQHJLNGUI        NaN        NaN        NaN        NaN        NaN  ...   \n",
      "A2DV14M0BC6YY1        NaN        NaN        NaN        NaN        NaN  ...   \n",
      "A100UD67AHFODS        NaN        NaN        NaN        NaN        NaN  ...   \n",
      "A105S56ODHGJEK          1          5          4          5          5  ...   \n",
      "A1075X1Q4M3S78        NaN        NaN        NaN        NaN        NaN  ...   \n",
      "A10C5CJK1YKGV0        NaN          4        NaN        NaN        NaN  ...   \n",
      "A10CRW7XRJBJ2G        NaN        NaN        NaN        NaN        NaN  ...   \n",
      "A10EIJM2C94M14        NaN        NaN        NaN        NaN        NaN  ...   \n",
      "A10G3LHNAK4GEH        NaN        NaN        NaN        NaN        NaN  ...   \n",
      "A10G4BPT5MGBHY        NaN        NaN        NaN        NaN        NaN  ...   \n",
      "\n",
      "asin           B000XIH9R6 B000ZH8YM4 B000Z3GSXK B0017UBJBG B000ZQAS0Q  \\\n",
      "A2SACTIFMC5DXO        NaN        NaN        NaN        NaN        NaN   \n",
      "A23E9QQHJLNGUI        NaN        NaN        NaN        NaN        NaN   \n",
      "A2DV14M0BC6YY1        NaN        NaN        NaN        NaN        NaN   \n",
      "A100UD67AHFODS        NaN        NaN        NaN        NaN        NaN   \n",
      "A105S56ODHGJEK        NaN        NaN        NaN        NaN        NaN   \n",
      "A1075X1Q4M3S78        NaN        NaN        NaN        NaN        NaN   \n",
      "A10C5CJK1YKGV0        NaN        NaN        NaN        NaN        NaN   \n",
      "A10CRW7XRJBJ2G        NaN        NaN        NaN        NaN        NaN   \n",
      "A10EIJM2C94M14        NaN        NaN        NaN        NaN        NaN   \n",
      "A10G3LHNAK4GEH        NaN        NaN        NaN        NaN        NaN   \n",
      "A10G4BPT5MGBHY        NaN        NaN        NaN        NaN        NaN   \n",
      "\n",
      "asin           B00113N12E B0013YFI68 B0011DM0IA B000XS9YJW B00132DENO  \n",
      "A2SACTIFMC5DXO        NaN        NaN        NaN        NaN        NaN  \n",
      "A23E9QQHJLNGUI        NaN        NaN        NaN        NaN        NaN  \n",
      "A2DV14M0BC6YY1        NaN        NaN        NaN        NaN        NaN  \n",
      "A100UD67AHFODS        NaN        NaN        NaN        NaN        NaN  \n",
      "A105S56ODHGJEK        NaN        NaN        NaN        NaN        NaN  \n",
      "A1075X1Q4M3S78        NaN        NaN        NaN        NaN        NaN  \n",
      "A10C5CJK1YKGV0        NaN        NaN        NaN        NaN        NaN  \n",
      "A10CRW7XRJBJ2G        NaN        NaN        NaN        NaN        NaN  \n",
      "A10EIJM2C94M14        NaN        NaN        NaN        NaN        NaN  \n",
      "A10G3LHNAK4GEH        NaN        NaN        NaN        NaN        NaN  \n",
      "A10G4BPT5MGBHY        NaN        NaN        NaN        NaN        NaN  \n",
      "\n",
      "[11 rows x 800 columns]\n"
     ]
    }
   ],
   "source": [
    "print(last_user_nn10_matrix)\n"
   ]
  },
  {
   "cell_type": "markdown",
   "metadata": {},
   "source": [
    "full fill Nan with 0 or the row mean value"
   ]
  },
  {
   "cell_type": "code",
   "execution_count": 26,
   "metadata": {},
   "outputs": [],
   "source": [
    "fun10_np = first_user_nn10_matrix.to_numpy(dtype='float')\n",
    "reset_fun10_np = []\n",
    "for i in range(len(fun10_np)):\n",
    "    line = np.array(fun10_np[i, :], dtype='float')\n",
    "    line[np.isnan(line)] = np.nanmean(line)\n",
    "    reset_fun10_np.append(line)\n",
    "for i in range(len(fun10_np)):\n",
    "    line = fun10_np[i, :]\n",
    "    line[np.isnan(line)] = 0\n",
    "reset_fun10_cs = cosine_similarity(reset_fun10_np[1:], [reset_fun10_np[0]])\n",
    "fun10_cs = cosine_similarity(fun10_np[1:], [fun10_np[0]])\n",
    "lun10_np = last_user_nn10_matrix.to_numpy(dtype='float')\n",
    "reset_lun10_np = []\n",
    "for i in range(len(lun10_np)):\n",
    "    line = np.array(lun10_np[i, :], dtype='float')\n",
    "    line[np.isnan(line)] = np.nanmean(line)\n",
    "    reset_lun10_np.append(line)\n",
    "for i in range(len(lun10_np)):\n",
    "    line = lun10_np[i, :]\n",
    "    line[np.isnan(line)] = 0\n",
    "reset_lun10_cs = cosine_similarity(reset_lun10_np[1:], [reset_lun10_np[0]])\n",
    "lun10_cs = cosine_similarity(lun10_np[1:], [lun10_np[0]])\n"
   ]
  },
  {
   "cell_type": "markdown",
   "metadata": {},
   "source": [
    "cosine similarity within first/last user and their neighbors , filling Nan with 0"
   ]
  },
  {
   "cell_type": "code",
   "execution_count": 24,
   "metadata": {},
   "outputs": [
    {
     "name": "stdout",
     "output_type": "stream",
     "text": [
      "[[0.]\n",
      " [0.]\n",
      " [0.]\n",
      " [0.]\n",
      " [0.]\n",
      " [0.]\n",
      " [0.]\n",
      " [0.]\n",
      " [0.]\n",
      " [0.]]\n",
      "[[0.2116083 ]\n",
      " [0.19762338]\n",
      " [0.        ]\n",
      " [0.        ]\n",
      " [0.        ]\n",
      " [0.        ]\n",
      " [0.        ]\n",
      " [0.        ]\n",
      " [0.        ]\n",
      " [0.        ]]\n"
     ]
    }
   ],
   "source": [
    "print(fun10_cs)\n",
    "print(lun10_cs)\n"
   ]
  },
  {
   "cell_type": "markdown",
   "metadata": {},
   "source": [
    "cosine similarity within first/last user and their neighbors , filling Nan with row mean"
   ]
  },
  {
   "cell_type": "code",
   "execution_count": 25,
   "metadata": {},
   "outputs": [
    {
     "name": "stdout",
     "output_type": "stream",
     "text": [
      "[[1.        ]\n",
      " [0.99779248]\n",
      " [1.        ]\n",
      " [0.99945357]\n",
      " [0.99958359]\n",
      " [1.        ]\n",
      " [0.99994213]\n",
      " [0.99931194]\n",
      " [0.99997923]\n",
      " [0.999745  ]]\n",
      "[[0.9981022 ]\n",
      " [0.99836939]\n",
      " [0.99967762]\n",
      " [0.99747081]\n",
      " [0.99967762]\n",
      " [0.99913137]\n",
      " [0.99926135]\n",
      " [0.99967762]\n",
      " [0.99961978]\n",
      " [0.99898978]]\n"
     ]
    }
   ],
   "source": [
    "print(reset_fun10_cs)\n",
    "print(reset_lun10_cs)\n"
   ]
  },
  {
   "cell_type": "markdown",
   "metadata": {},
   "source": [
    "form a prediction dictionary for knn model, with the structure {uid:(sorted prediction result)} \n",
    "\n",
    "later used to calculate the RR score"
   ]
  },
  {
   "cell_type": "code",
   "execution_count": 42,
   "metadata": {},
   "outputs": [],
   "source": [
    "prediction_dic = knn_evalue.rank_k()"
   ]
  },
  {
   "cell_type": "markdown",
   "metadata": {},
   "source": [
    "RR value for first user and his 10 neighbor"
   ]
  },
  {
   "cell_type": "code",
   "execution_count": 43,
   "metadata": {},
   "outputs": [
    {
     "name": "stdout",
     "output_type": "stream",
     "text": [
      "A2G0O4Y8QE10AE  rr+  0.001594896331738437\n",
      "A100UD67AHFODS  rr+  0.004608294930875576\n",
      "A105S56ODHGJEK  rr+  0.002898550724637681\n",
      "A1075X1Q4M3S78  rr+  0.02040816326530612\n",
      "A10C5CJK1YKGV0  rr+  0.0022123893805309734\n",
      "A10CRW7XRJBJ2G  rr+  0.0025575447570332483\n",
      "A10EIJM2C94M14  rr+  0.0027100271002710027\n",
      "A10G3LHNAK4GEH  rr+  0.02127659574468085\n",
      "A10G4BPT5MGBHY  rr+  0.0024813895781637717\n",
      "A10GU5NVTA5I67  rr+  0.0038314176245210726\n",
      "A10NC6ZVVMBHNH  rr+  0.0013315579227696406\n"
     ]
    }
   ],
   "source": [
    "for uid in nnfor_fisrt:\n",
    "    print(uid, ' rr+ ',\n",
    "          knn_evalue.rr_k_user(prediction_dic[uid], uid, len(prediction_dic[uid])))\n"
   ]
  },
  {
   "cell_type": "markdown",
   "metadata": {},
   "source": [
    "RR value for first user and his 10 neighbor"
   ]
  },
  {
   "cell_type": "code",
   "execution_count": 44,
   "metadata": {},
   "outputs": [
    {
     "name": "stdout",
     "output_type": "stream",
     "text": [
      "A2SACTIFMC5DXO  rr+  0.009433962264150943\n",
      "A23E9QQHJLNGUI  rr+  0.0014814814814814814\n",
      "A2DV14M0BC6YY1  rr+  0\n",
      "A100UD67AHFODS  rr+  0.004608294930875576\n",
      "A105S56ODHGJEK  rr+  0.002898550724637681\n",
      "A1075X1Q4M3S78  rr+  0.02040816326530612\n",
      "A10C5CJK1YKGV0  rr+  0.0022123893805309734\n",
      "A10CRW7XRJBJ2G  rr+  0.0025575447570332483\n",
      "A10EIJM2C94M14  rr+  0.0027100271002710027\n",
      "A10G3LHNAK4GEH  rr+  0.02127659574468085\n",
      "A10G4BPT5MGBHY  rr+  0.0024813895781637717\n"
     ]
    }
   ],
   "source": [
    "for uid in nnfor_last:\n",
    "    print(uid, ' rr+ ',\n",
    "          knn_evalue.rr_k_user(prediction_dic[uid], uid, len(prediction_dic[uid])))\n"
   ]
  },
  {
   "cell_type": "markdown",
   "metadata": {},
   "source": [
    "## Part4 Text Representation"
   ]
  },
  {
   "cell_type": "markdown",
   "metadata": {},
   "source": [
    "initial the class for Contentbased recommendation, for different text representations I use different initial classes to record it"
   ]
  },
  {
   "cell_type": "code",
   "execution_count": 9,
   "metadata": {},
   "outputs": [],
   "source": [
    "tfidf_model = msy.Contentbased_recommendation(reuse=preprocess)\n",
    "word2vec_model = msy.Contentbased_recommendation(reuse=preprocess,word2vec=True)\n",
    "bert_model = msy.Contentbased_recommendation(reuse=preprocess,bert=True)\n"
   ]
  },
  {
   "cell_type": "markdown",
   "metadata": {},
   "source": [
    "after tokenizing and other processing the remaining word size"
   ]
  },
  {
   "cell_type": "code",
   "execution_count": 46,
   "metadata": {},
   "outputs": [
    {
     "name": "stdout",
     "output_type": "stream",
     "text": [
      "622\n"
     ]
    }
   ],
   "source": [
    "tfidf_model.print_words_num()\n"
   ]
  },
  {
   "cell_type": "markdown",
   "metadata": {},
   "source": [
    "the size of tfidf item profile"
   ]
  },
  {
   "cell_type": "code",
   "execution_count": 47,
   "metadata": {},
   "outputs": [
    {
     "name": "stdout",
     "output_type": "stream",
     "text": [
      "(801, 618)\n"
     ]
    }
   ],
   "source": [
    "print(tfidf_model.tfidf.to_numpy().shape)\n"
   ]
  },
  {
   "cell_type": "markdown",
   "metadata": {},
   "source": [
    "similarity between products within the TF-IDF, word2vec and BERT"
   ]
  },
  {
   "cell_type": "code",
   "execution_count": 48,
   "metadata": {},
   "outputs": [
    {
     "name": "stdout",
     "output_type": "stream",
     "text": [
      "tfidf  +  [[1.         0.40876432 0.38100113 0.         0.        ]\n",
      " [0.40876432 1.         0.66379832 0.         0.        ]\n",
      " [0.38100113 0.66379832 1.         0.         0.        ]\n",
      " [0.         0.         0.         1.         0.        ]\n",
      " [0.         0.         0.         0.         1.        ]]\n",
      "word2vec  +  [[1.         0.49886109 0.48628955 0.64383875 0.3779223 ]\n",
      " [0.49886109 1.         0.82148934 0.40978907 0.32713615]\n",
      " [0.48628955 0.82148934 1.         0.43663537 0.3267278 ]\n",
      " [0.64383875 0.40978907 0.43663537 1.         0.41686391]\n",
      " [0.3779223  0.32713615 0.3267278  0.41686391 1.        ]]\n",
      "bert  +  [[1.         0.82374993 0.83612338 0.61856529 0.64412636]\n",
      " [0.82374993 1.         0.94925152 0.66393282 0.62677793]\n",
      " [0.83612338 0.94925152 1.         0.67859027 0.67339287]\n",
      " [0.61856529 0.66393282 0.67859027 1.         0.70500187]\n",
      " [0.64412636 0.62677793 0.67339287 0.70500187 1.        ]]\n"
     ]
    }
   ],
   "source": [
    "print('tfidf', ' + ',\n",
    "      cosine_similarity(tfidf_model.tfidf.iloc[:5, :].to_numpy()))\n",
    "print('word2vec', ' + ',\n",
    "      cosine_similarity(word2vec_model.tfidf.iloc[:5, :].to_numpy()))\n",
    "print('bert', ' + ',\n",
    "      cosine_similarity(bert_model.tfidf.iloc[:5, :].to_numpy()))\n"
   ]
  },
  {
   "cell_type": "markdown",
   "metadata": {},
   "source": [
    "## Part 5 Content-Based Recommender System\n"
   ]
  },
  {
   "cell_type": "markdown",
   "metadata": {},
   "source": [
    "making prediction with TF-IDF, word2vec and BERT"
   ]
  },
  {
   "cell_type": "code",
   "execution_count": 10,
   "metadata": {},
   "outputs": [],
   "source": [
    "tfidf_prediction = tfidf_model.predict()\n",
    "word2vec_prediction = word2vec_model.predict()\n",
    "bert_prediction = bert_model.predict()\n"
   ]
  },
  {
   "cell_type": "markdown",
   "metadata": {},
   "source": [
    "load the class for making the evaluation for the predictions"
   ]
  },
  {
   "cell_type": "code",
   "execution_count": 11,
   "metadata": {},
   "outputs": [],
   "source": [
    "tfidf_evalue = msy.Evaluation(tfidf_prediction, reuse=preprocess)\n",
    "word2vec_evalue = msy.Evaluation(word2vec_prediction, reuse=preprocess)\n",
    "bert_evalue = msy.Evaluation(bert_prediction, reuse=preprocess)\n"
   ]
  },
  {
   "cell_type": "markdown",
   "metadata": {},
   "source": [
    "evaluation for CB system with TF-IDF"
   ]
  },
  {
   "cell_type": "code",
   "execution_count": 51,
   "metadata": {},
   "outputs": [
    {
     "name": "stdout",
     "output_type": "stream",
     "text": [
      "tfidf mpk+ 0.041613\n",
      "tfidf mapk+ 0.162293\n",
      "tfidf mrrk+ 0.162293\n",
      "tfidf hr+ 0.208065\n"
     ]
    }
   ],
   "source": [
    "print('tfidf mpk+  {:.6f}'.format(tfidf_evalue.mean_k(5, 'p_k')))\n",
    "print('tfidf mapk+ {:.6f}'.format(tfidf_evalue.mean_k(5, 'ap_k')))\n",
    "print('tfidf mrrk+ {:.6f}'.format(tfidf_evalue.mean_k(5, 'rr_k')))\n",
    "print('tfidf hr+   {:.6f}'.format(tfidf_evalue.mean_k(5, 'hr_k')))\n"
   ]
  },
  {
   "cell_type": "markdown",
   "metadata": {},
   "source": [
    "evaluation for CB system with word2vec"
   ]
  },
  {
   "cell_type": "code",
   "execution_count": 52,
   "metadata": {},
   "outputs": [
    {
     "name": "stdout",
     "output_type": "stream",
     "text": [
      "word2vec mpk+ 0.035067\n",
      "word2vec mapk+ 0.147078\n",
      "word2vec mrrk+ 0.147078\n",
      "word2vec hr+ 0.175336\n"
     ]
    }
   ],
   "source": [
    "print('word2vec mpk+  {:.6f}'.format(word2vec_evalue.mean_k(5, 'p_k')))\n",
    "print('word2vec mapk+ {:.6f}'.format(word2vec_evalue.mean_k(5, 'ap_k')))\n",
    "print('word2vec mrrk+ {:.6f}'.format(word2vec_evalue.mean_k(5, 'rr_k')))\n",
    "print('word2vec hr+   {:.6f}'.format(word2vec_evalue.mean_k(5, 'hr_k')))\n"
   ]
  },
  {
   "cell_type": "markdown",
   "metadata": {},
   "source": [
    "evaluation for CB system with BERT"
   ]
  },
  {
   "cell_type": "code",
   "execution_count": 53,
   "metadata": {},
   "outputs": [
    {
     "name": "stdout",
     "output_type": "stream",
     "text": [
      "bert mpk+ 0.035885\n",
      "bert mapk+ 0.061368\n",
      "bert mrrk+ 0.061368\n",
      "bert hr+ 0.179427\n"
     ]
    }
   ],
   "source": [
    "print('bert mpk+  {:.6f}'.format(bert_evalue.mean_k(5, 'p_k')))\n",
    "print('bert mapk+ {:.6f}'.format(bert_evalue.mean_k(5, 'ap_k')))\n",
    "print('bert mrrk+ {:.6f}'.format(bert_evalue.mean_k(5, 'rr_k')))\n",
    "print('bert hr+   {:.6f}'.format(bert_evalue.mean_k(5, 'hr_k')))\n"
   ]
  },
  {
   "cell_type": "markdown",
   "metadata": {},
   "source": [
    "## Part 6 Hybrid Recommender System"
   ]
  },
  {
   "cell_type": "markdown",
   "metadata": {},
   "source": [
    "combine two evaluation classes to form a evaluation list which is used in fit the Hybrid recommender system class \n",
    "\n",
    "in fact you are free to use more than 2 models to form this but I didn't do the test "
   ]
  },
  {
   "cell_type": "code",
   "execution_count": 36,
   "metadata": {},
   "outputs": [],
   "source": [
    "evaluation_list = [svd_evalue, tfidf_evalue]\n"
   ]
  },
  {
   "cell_type": "markdown",
   "metadata": {},
   "source": [
    "Initial a Hybrid recommender system class with svd and tfidf model, for Meta-level strategy the user profile comes from tfidf model"
   ]
  },
  {
   "cell_type": "code",
   "execution_count": 37,
   "metadata": {},
   "outputs": [],
   "source": [
    "hybrid_model = msy.Hybridrecommender_system(\n",
    "    evaluation_list=evaluation_list, reuse=preprocess, userprofile=tfidf_model.user_mean_vector)\n"
   ]
  },
  {
   "cell_type": "markdown",
   "metadata": {},
   "source": [
    "run weight strategy with weight [1,1] [1,2] and [2,1]"
   ]
  },
  {
   "cell_type": "code",
   "execution_count": 14,
   "metadata": {},
   "outputs": [],
   "source": [
    "ws_pred_11 = hybrid_model.weight_strategy([1, 1])\n",
    "ws_pred_12 = hybrid_model.weight_strategy([1, 2])\n",
    "ws_pred_21 = hybrid_model.weight_strategy([2, 1])\n"
   ]
  },
  {
   "cell_type": "markdown",
   "metadata": {},
   "source": [
    "initial evaluation class for them"
   ]
  },
  {
   "cell_type": "code",
   "execution_count": 15,
   "metadata": {},
   "outputs": [],
   "source": [
    "ws11_evalue = msy.Evaluation(ws_pred_11, reuse=preprocess)\n",
    "ws12_evalue = msy.Evaluation(ws_pred_12, reuse=preprocess)\n",
    "ws21_evalue = msy.Evaluation(ws_pred_21, reuse=preprocess)\n"
   ]
  },
  {
   "cell_type": "markdown",
   "metadata": {},
   "source": [
    "MP@k, MAP@k, MRR@k, MHR@k for weight strategy with weight [1,1]"
   ]
  },
  {
   "cell_type": "code",
   "execution_count": 16,
   "metadata": {},
   "outputs": [
    {
     "name": "stdout",
     "output_type": "stream",
     "text": [
      "ws [svd tfidf] mpk+  0.041847 with weight [1,1]\n",
      "ws [svd tfidf] mapk+ 0.161601 with weight [1,1]\n",
      "ws [svd tfidf] mrrk+ 0.161601 with weight [1,1]\n",
      "ws [svd tfidf] hr+   0.209234 with weight [1,1]\n"
     ]
    }
   ],
   "source": [
    "print(\n",
    "    'ws [svd tfidf] mpk+  {:.6f} with weight [1,1]'.format(ws11_evalue.mean_k(5, 'p_k')))\n",
    "print(\n",
    "    'ws [svd tfidf] mapk+ {:.6f} with weight [1,1]'.format(ws11_evalue.mean_k(5, 'ap_k')))\n",
    "print(\n",
    "    'ws [svd tfidf] mrrk+ {:.6f} with weight [1,1]'.format(ws11_evalue.mean_k(5, 'rr_k')))\n",
    "print(\n",
    "    'ws [svd tfidf] hr+   {:.6f} with weight [1,1]'.format(ws11_evalue.mean_k(5, 'hr_k')))\n"
   ]
  },
  {
   "cell_type": "markdown",
   "metadata": {},
   "source": [
    "MP@k, MAP@k, MRR@k, MHR@k for weight strategy with weight [1,2]"
   ]
  },
  {
   "cell_type": "code",
   "execution_count": 60,
   "metadata": {},
   "outputs": [
    {
     "name": "stdout",
     "output_type": "stream",
     "text": [
      "ws mpk+ 0.042548 with weight [1,2]\n",
      "ws mapk+ 0.164757 with weight [1,2]\n",
      "ws mrrk+ 0.164757 with weight [1,2]\n",
      "ws hr+ 0.212741 with weight [1,2]\n"
     ]
    }
   ],
   "source": [
    "print(\n",
    "    'ws [svd tfidf] mpk+  {:.6f} with weight [1,2]'.format(ws12_evalue.mean_k(5, 'p_k')))\n",
    "print(\n",
    "    'ws [svd tfidf] mapk+ {:.6f} with weight [1,2]'.format(ws12_evalue.mean_k(5, 'ap_k')))\n",
    "print(\n",
    "    'ws [svd tfidf] mrrk+ {:.6f} with weight [1,2]'.format(ws12_evalue.mean_k(5, 'rr_k')))\n",
    "print(\n",
    "    'ws [svd tfidf] hr+   {:.6f} with weight [1,2]'.format(ws12_evalue.mean_k(5, 'hr_k')))\n"
   ]
  },
  {
   "cell_type": "markdown",
   "metadata": {},
   "source": [
    "MP@k, MAP@k, MRR@k, MHR@k for weight strategy with weight [2,1]"
   ]
  },
  {
   "cell_type": "code",
   "execution_count": 61,
   "metadata": {},
   "outputs": [
    {
     "name": "stdout",
     "output_type": "stream",
     "text": [
      "ws mpk+ 0.038574 with weight [2,1]\n",
      "ws mapk+ 0.157423 with weight [2,1]\n",
      "ws mrrk+ 0.157423 with weight [2,1]\n",
      "ws hr+ 0.192870 with weight [2,1]\n"
     ]
    }
   ],
   "source": [
    "print(\n",
    "    'ws [svd tfidf] mpk+  {:.6f} with weight [2,1]'.format(ws21_evalue.mean_k(5, 'p_k')))\n",
    "print(\n",
    "    'ws [svd tfidf] mapk+ {:.6f} with weight [2,1]'.format(ws21_evalue.mean_k(5, 'ap_k')))\n",
    "print(\n",
    "    'ws [svd tfidf] mrrk+ {:.6f} with weight [2,1]'.format(ws21_evalue.mean_k(5, 'rr_k')))\n",
    "print(\n",
    "    'ws [svd tfidf] hr+   {:.6f} with weight [2,1]'.format(ws21_evalue.mean_k(5, 'hr_k')))\n"
   ]
  },
  {
   "cell_type": "markdown",
   "metadata": {},
   "source": [
    "weight strategy with Borda Fuse score method"
   ]
  },
  {
   "cell_type": "code",
   "execution_count": 17,
   "metadata": {},
   "outputs": [],
   "source": [
    "bf_model = hybrid_model.weight_strategy(borda=True, rank=100)\n"
   ]
  },
  {
   "cell_type": "markdown",
   "metadata": {},
   "source": [
    "initial the evaluation class for bf method output"
   ]
  },
  {
   "cell_type": "code",
   "execution_count": 18,
   "metadata": {},
   "outputs": [],
   "source": [
    "bf_evalue = msy.Evaluation(bf_model, reuse=preprocess)\n"
   ]
  },
  {
   "cell_type": "markdown",
   "metadata": {},
   "source": [
    "MP@k, MAP@k, MRR@k, MHR@k for weight strategy with Borda Fuse"
   ]
  },
  {
   "cell_type": "code",
   "execution_count": 19,
   "metadata": {},
   "outputs": [
    {
     "name": "stdout",
     "output_type": "stream",
     "text": [
      "bf ws [svd tfidf] mpk+  0.031911\n",
      "bf ws [svd tfidf] mapk+ 0.143590\n",
      "bf ws [svd tfidf] mrrk+ 0.143590\n",
      "bf ws [svd tfidf] hr+   0.159556\n"
     ]
    }
   ],
   "source": [
    "print('bf ws [svd tfidf] mpk+  {:.6f}'.format(bf_evalue.mean_k(5, 'p_k')))\n",
    "print('bf ws [svd tfidf] mapk+ {:.6f}'.format(bf_evalue.mean_k(5, 'ap_k')))\n",
    "print('bf ws [svd tfidf] mrrk+ {:.6f}'.format(bf_evalue.mean_k(5, 'rr_k')))\n",
    "print('bf ws [svd tfidf] hr+   {:.6f}'.format(bf_evalue.mean_k(5, 'hr_k')))\n"
   ]
  },
  {
   "cell_type": "markdown",
   "metadata": {},
   "source": [
    "make prediction with switch strategy "
   ]
  },
  {
   "cell_type": "code",
   "execution_count": 20,
   "metadata": {},
   "outputs": [],
   "source": [
    "ss_pred = hybrid_model.switching_strategy()\n"
   ]
  },
  {
   "cell_type": "markdown",
   "metadata": {},
   "source": [
    "initial evaluation"
   ]
  },
  {
   "cell_type": "code",
   "execution_count": 21,
   "metadata": {},
   "outputs": [],
   "source": [
    "ss_evalue = msy.Evaluation(ss_pred, reuse=preprocess)\n"
   ]
  },
  {
   "cell_type": "markdown",
   "metadata": {},
   "source": [
    "MP@k, MAP@k, MRR@k, MHR@k for switch strategy"
   ]
  },
  {
   "cell_type": "code",
   "execution_count": 22,
   "metadata": {},
   "outputs": [
    {
     "name": "stdout",
     "output_type": "stream",
     "text": [
      "ss [svd tfidf] mpk+  0.042314\n",
      "ss [svd tfidf] mapk+ 0.164144\n",
      "ss [svd tfidf] mrrk+ 0.164144\n",
      "ss [svd tfidf] hr+   0.211572\n"
     ]
    }
   ],
   "source": [
    "print('ss [svd tfidf] mpk+  {:.6f}'.format(ss_evalue.mean_k(5, 'p_k')))\n",
    "print('ss [svd tfidf] mapk+ {:.6f}'.format(ss_evalue.mean_k(5, 'ap_k')))\n",
    "print('ss [svd tfidf] mrrk+ {:.6f}'.format(ss_evalue.mean_k(5, 'rr_k')))\n",
    "print('ss [svd tfidf] hr+   {:.6f}'.format(ss_evalue.mean_k(5, 'hr_k')))\n"
   ]
  },
  {
   "cell_type": "markdown",
   "metadata": {},
   "source": [
    "predict with Meta-level strategy and take the 5 nearest neighbors"
   ]
  },
  {
   "cell_type": "code",
   "execution_count": 38,
   "metadata": {},
   "outputs": [],
   "source": [
    "ms_pred = hybrid_model.metalevel_strategy(rank=5)\n"
   ]
  },
  {
   "cell_type": "markdown",
   "metadata": {},
   "source": [
    "initial evaluation"
   ]
  },
  {
   "cell_type": "code",
   "execution_count": 41,
   "metadata": {},
   "outputs": [],
   "source": [
    "ms_evalue = msy.Evaluation(ms_pred, reuse=preprocess)\n"
   ]
  },
  {
   "cell_type": "markdown",
   "metadata": {},
   "source": [
    "MP@k, MAP@k, MRR@k, MHR@k for Meta-level strategy"
   ]
  },
  {
   "cell_type": "code",
   "execution_count": 42,
   "metadata": {},
   "outputs": [
    {
     "name": "stdout",
     "output_type": "stream",
     "text": [
      "ms [svd tfidf] mpk+  0.019871\n",
      "ms [svd tfidf] mapk+ 0.049786\n",
      "ms [svd tfidf] mrrk+ 0.049786\n",
      "ms [svd tfidf] hr+   0.099357\n"
     ]
    }
   ],
   "source": [
    "print('ms [svd tfidf] mpk+  {:.6f}'.format(ms_evalue.mean_k(5, 'p_k')))\n",
    "print('ms [svd tfidf] mapk+ {:.6f}'.format(ms_evalue.mean_k(5, 'ap_k')))\n",
    "print('ms [svd tfidf] mrrk+ {:.6f}'.format(ms_evalue.mean_k(5, 'rr_k')))\n",
    "print('ms [svd tfidf] hr+   {:.6f}'.format(ms_evalue.mean_k(5, 'hr_k')))\n"
   ]
  },
  {
   "cell_type": "markdown",
   "metadata": {},
   "source": [
    "Initial a hybrid recommender system class with [SVD, TF-IDF] and using the prediction from TF-IDF to full fill the user item matrix, scale score from TF-IDF to [0,5] and make the prediction with parameter rank=5, also initial the evaluation class for it.\n",
    "\n",
    "<font color=red>Warning</font> the step takes about 8 minutes \n"
   ]
  },
  {
   "cell_type": "code",
   "execution_count": 43,
   "metadata": {},
   "outputs": [],
   "source": [
    "hybrid_model_withpred = msy.Hybridrecommender_system(\n",
    "    evaluation_list=evaluation_list, reuse=preprocess, userprofile=tfidf_model.user_mean_vector, with_pred=1, scalar=5)\n",
    "ms_pred_withpred = hybrid_model_withpred.metalevel_strategy(rank=5)\n",
    "ms_evalue_withpred = msy.Evaluation(ms_pred_withpred, reuse=preprocess)\n"
   ]
  },
  {
   "cell_type": "code",
   "execution_count": 45,
   "metadata": {},
   "outputs": [
    {
     "name": "stdout",
     "output_type": "stream",
     "text": [
      "ms [svd tfidf] mpk+  0.041964 with TF-IDF predction\n",
      "ms [svd tfidf] mapk+ 0.168966 with TF-IDF predction\n",
      "ms [svd tfidf] mrrk+ 0.168966 with TF-IDF predction\n",
      "ms [svd tfidf] hr+   0.209819 with TF-IDF predction\n"
     ]
    }
   ],
   "source": [
    "print('ms [svd tfidf] mpk+  {:.6f} with TF-IDF predction'.format(\n",
    "    ms_evalue_withpred.mean_k(5, 'p_k')))\n",
    "print('ms [svd tfidf] mapk+ {:.6f} with TF-IDF predction'.format(\n",
    "    ms_evalue_withpred.mean_k(5, 'ap_k')))\n",
    "print('ms [svd tfidf] mrrk+ {:.6f} with TF-IDF predction'.format(\n",
    "    ms_evalue_withpred.mean_k(5, 'rr_k')))\n",
    "print('ms [svd tfidf] hr+   {:.6f} with TF-IDF predction'.format(\n",
    "    ms_evalue_withpred.mean_k(5, 'hr_k')))\n"
   ]
  },
  {
   "cell_type": "markdown",
   "metadata": {},
   "source": [
    "using KNN and TF-IDF evaluation class to form a new list"
   ]
  },
  {
   "cell_type": "code",
   "execution_count": 23,
   "metadata": {},
   "outputs": [],
   "source": [
    "evaluation_list = [knn_evalue, tfidf_evalue]\n"
   ]
  },
  {
   "cell_type": "markdown",
   "metadata": {},
   "source": [
    "initial a Hybrid recommender system with [KNN, TF-IDF]"
   ]
  },
  {
   "cell_type": "code",
   "execution_count": 24,
   "metadata": {},
   "outputs": [],
   "source": [
    "hybrid_model_knn = msy.Hybridrecommender_system(\n",
    "    evaluation_list=evaluation_list, reuse=preprocess, userprofile=tfidf_model.user_mean_vector)\n"
   ]
  },
  {
   "cell_type": "markdown",
   "metadata": {},
   "source": [
    "predict with weight strategy and the weight is [1,1]"
   ]
  },
  {
   "cell_type": "code",
   "execution_count": 25,
   "metadata": {},
   "outputs": [],
   "source": [
    "ws_pred_11_knn = hybrid_model_knn.weight_strategy([1, 1])\n",
    "ws11_evalue_knn = msy.Evaluation(ws_pred_11_knn, reuse=preprocess)\n"
   ]
  },
  {
   "cell_type": "markdown",
   "metadata": {},
   "source": [
    "MP@k, MAP@k, MRR@k, MHR@k for weight strategy with weight [1,1] under [KNN, TF-IDF] pair"
   ]
  },
  {
   "cell_type": "code",
   "execution_count": 26,
   "metadata": {},
   "outputs": [
    {
     "name": "stdout",
     "output_type": "stream",
     "text": [
      "ws [knn tfidf]mpk+  0.007481 with weight [1,1]\n",
      "ws [knn tfidf]mapk+ 0.018576 with weight [1,1]\n",
      "ws [knn tfidf]mrrk+ 0.018576 with weight [1,1]\n",
      "ws [knn tfidf]hr+   0.037405 with weight [1,1]\n"
     ]
    }
   ],
   "source": [
    "print(\n",
    "    'ws [knn tfidf]mpk+  {:.6f} with weight [1,1]'.format(ws11_evalue_knn.mean_k(5, 'p_k')))\n",
    "print(\n",
    "    'ws [knn tfidf]mapk+ {:.6f} with weight [1,1]'.format(ws11_evalue_knn.mean_k(5, 'ap_k')))\n",
    "print(\n",
    "    'ws [knn tfidf]mrrk+ {:.6f} with weight [1,1]'.format(ws11_evalue_knn.mean_k(5, 'rr_k')))\n",
    "print(\n",
    "    'ws [knn tfidf]hr+   {:.6f} with weight [1,1]'.format(ws11_evalue_knn.mean_k(5, 'hr_k')))\n"
   ]
  },
  {
   "cell_type": "markdown",
   "metadata": {},
   "source": [
    "predict with switch strategy"
   ]
  },
  {
   "cell_type": "code",
   "execution_count": 54,
   "metadata": {},
   "outputs": [],
   "source": [
    "ss_pred_knn = hybrid_model_knn.switching_strategy()\n",
    "ss_evalue_knn = msy.Evaluation(ss_pred_knn, reuse=preprocess)\n"
   ]
  },
  {
   "cell_type": "markdown",
   "metadata": {},
   "source": [
    "MP@k, MAP@k, MRR@k, MHR@k for switch strategy under [KNN, TF-IDF] pair"
   ]
  },
  {
   "cell_type": "code",
   "execution_count": 55,
   "metadata": {},
   "outputs": [
    {
     "name": "stdout",
     "output_type": "stream",
     "text": [
      "ss [knn tfidf]mpk+  0.044886\n",
      "ss [knn tfidf]mapk+ 0.170505\n",
      "ss [knn tfidf]mrrk+ 0.170505\n",
      "ss [knn tfidf]hr+   0.224430\n"
     ]
    }
   ],
   "source": [
    "print('ss [knn tfidf]mpk+  {:.6f}'.format(ss_evalue_knn.mean_k(5, 'p_k')))\n",
    "print('ss [knn tfidf]mapk+ {:.6f}'.format(ss_evalue_knn.mean_k(5, 'ap_k')))\n",
    "print('ss [knn tfidf]mrrk+ {:.6f}'.format(ss_evalue_knn.mean_k(5, 'rr_k')))\n",
    "print('ss [knn tfidf]hr+   {:.6f}'.format(ss_evalue_knn.mean_k(5, 'hr_k')))\n"
   ]
  },
  {
   "cell_type": "markdown",
   "metadata": {},
   "source": [
    "with cut_off = 100 initial a Hybrid recommender system with [SVD, TF-IDF], run weight strategy with [1,2] and switch strategy"
   ]
  },
  {
   "cell_type": "code",
   "execution_count": 27,
   "metadata": {},
   "outputs": [],
   "source": [
    "evaluation_list = [svd_evalue, tfidf_evalue]\n",
    "hybrid_model_withcutoff = msy.Hybridrecommender_system(\n",
    "    evaluation_list, reuse=preprocess, cut_off=100)\n",
    "ws_pred_12_withcutoff = hybrid_model_withcutoff.weight_strategy([1, 2])\n",
    "ss_pred_withcutoff = hybrid_model_withcutoff.switching_strategy()\n"
   ]
  },
  {
   "cell_type": "markdown",
   "metadata": {},
   "source": [
    "initial evaluation"
   ]
  },
  {
   "cell_type": "code",
   "execution_count": 28,
   "metadata": {},
   "outputs": [],
   "source": [
    "ws_evalue_12_withcutoff = msy.Evaluation(\n",
    "    ws_pred_12_withcutoff, reuse=preprocess)\n",
    "ss_evalue_withcutoff = msy.Evaluation(ss_pred_withcutoff, reuse=preprocess)\n"
   ]
  },
  {
   "cell_type": "markdown",
   "metadata": {},
   "source": [
    "MP@k, MAP@k, MRR@k, MHR@k for weight strategy with cut-off=100 and weight [1,2]"
   ]
  },
  {
   "cell_type": "code",
   "execution_count": 29,
   "metadata": {},
   "outputs": [
    {
     "name": "stdout",
     "output_type": "stream",
     "text": [
      "ws [svd tfidf] mpk+  0.038925 with weight [1,2] with cutoff\n",
      "ws [svd tfidf] mapk+ 0.156750 with weight [1,2] with cutoff\n",
      "ws [svd tfidf] mrrk+ 0.156750 with weight [1,2] with cutoff\n",
      "ws [svd tfidf] hr+   0.194623 with weight [1,2] with cutoff\n"
     ]
    }
   ],
   "source": [
    "print('ws [svd tfidf] mpk+  {:.6f} with weight [1,2] with cutoff'.format(\n",
    "    ws_evalue_12_withcutoff.mean_k(5, 'p_k')))\n",
    "print('ws [svd tfidf] mapk+ {:.6f} with weight [1,2] with cutoff'.format(\n",
    "    ws_evalue_12_withcutoff.mean_k(5, 'ap_k')))\n",
    "print('ws [svd tfidf] mrrk+ {:.6f} with weight [1,2] with cutoff'.format(\n",
    "    ws_evalue_12_withcutoff.mean_k(5, 'rr_k')))\n",
    "print('ws [svd tfidf] hr+   {:.6f} with weight [1,2] with cutoff'.format(\n",
    "    ws_evalue_12_withcutoff.mean_k(5, 'hr_k')))\n"
   ]
  },
  {
   "cell_type": "markdown",
   "metadata": {},
   "source": [
    "MP@k, MAP@k, MRR@k, MHR@k for switch strategy with cut-off=100"
   ]
  },
  {
   "cell_type": "code",
   "execution_count": 30,
   "metadata": {},
   "outputs": [
    {
     "name": "stdout",
     "output_type": "stream",
     "text": [
      "ss [svd tfidf] mpk+  0.042314 with cutoff\n",
      "ss [svd tfidf] mapk+ 0.164144 with cutoff\n",
      "ss [svd tfidf] mrrk+ 0.164144 with cutoff\n",
      "ss [svd tfidf] hr+   0.211572 with cutoff\n"
     ]
    }
   ],
   "source": [
    "print(\n",
    "    'ss [svd tfidf] mpk+  {:.6f} with cutoff'.format(ss_evalue_withcutoff.mean_k(5, 'p_k')))\n",
    "print(\n",
    "    'ss [svd tfidf] mapk+ {:.6f} with cutoff'.format(ss_evalue_withcutoff.mean_k(5, 'ap_k')))\n",
    "print(\n",
    "    'ss [svd tfidf] mrrk+ {:.6f} with cutoff'.format(ss_evalue_withcutoff.mean_k(5, 'rr_k')))\n",
    "print(\n",
    "    'ss [svd tfidf] hr+   {:.6f} with cutoff'.format(ss_evalue_withcutoff.mean_k(5, 'hr_k')))\n"
   ]
  }
 ],
 "metadata": {
  "interpreter": {
   "hash": "aee8b7b246df8f9039afb4144a1f6fd8d2ca17a180786b69acc140d282b71a49"
  },
  "kernelspec": {
   "display_name": "Python 3.9.7 64-bit",
   "language": "python",
   "name": "python3"
  },
  "language_info": {
   "codemirror_mode": {
    "name": "ipython",
    "version": 3
   },
   "file_extension": ".py",
   "mimetype": "text/x-python",
   "name": "python",
   "nbconvert_exporter": "python",
   "pygments_lexer": "ipython3",
   "version": "3.9.7"
  },
  "orig_nbformat": 4
 },
 "nbformat": 4,
 "nbformat_minor": 2
}
