{
 "cells": [
  {
   "cell_type": "code",
   "execution_count": 19,
   "metadata": {},
   "outputs": [],
   "source": [
    "import summary as msy\n",
    "import numpy as np\n",
    "import pandas as pd\n",
    "import importlib\n",
    "from sklearn.metrics.pairwise import cosine_similarity"
   ]
  },
  {
   "cell_type": "code",
   "execution_count": 20,
   "metadata": {},
   "outputs": [
    {
     "name": "stdout",
     "output_type": "stream",
     "text": [
      "Using device: cpu\n"
     ]
    },
    {
     "name": "stderr",
     "output_type": "stream",
     "text": [
      "[nltk_data] Downloading package punkt to /Users/lwk/nltk_data...\n",
      "[nltk_data]   Package punkt is already up-to-date!\n",
      "[nltk_data] Downloading package stopwords to /Users/lwk/nltk_data...\n",
      "[nltk_data]   Package stopwords is already up-to-date!\n"
     ]
    },
    {
     "data": {
      "text/plain": [
       "<module 'summary' from '/Users/lwk/Documents/web_science/web_science/summary.py'>"
      ]
     },
     "execution_count": 20,
     "metadata": {},
     "output_type": "execute_result"
    }
   ],
   "source": [
    "importlib.reload(msy)"
   ]
  },
  {
   "cell_type": "markdown",
   "metadata": {},
   "source": [
    "### load dataset"
   ]
  },
  {
   "cell_type": "code",
   "execution_count": 21,
   "metadata": {},
   "outputs": [],
   "source": [
    "df_1, df_2 = msy.ini('Software_5.json', 'meta_Software.json')"
   ]
  },
  {
   "cell_type": "markdown",
   "metadata": {},
   "source": [
    "# Part 1"
   ]
  },
  {
   "cell_type": "code",
   "execution_count": 22,
   "metadata": {},
   "outputs": [],
   "source": [
    "preprocess = msy.Preprocess(df_1, df_2)"
   ]
  },
  {
   "cell_type": "code",
   "execution_count": 23,
   "metadata": {},
   "outputs": [
    {
     "data": {
      "text/plain": [
       "count    1824.000000\n",
       "mean        5.576206\n",
       "std         3.488828\n",
       "min         1.000000\n",
       "25%         4.000000\n",
       "50%         5.000000\n",
       "75%         6.000000\n",
       "max        51.000000\n",
       "Name: overall, dtype: float64"
      ]
     },
     "execution_count": 23,
     "metadata": {},
     "output_type": "execute_result"
    }
   ],
   "source": [
    "training_des = preprocess.training_data.groupby(['reviewerID']).count()\n",
    "training_des.overall.describe()"
   ]
  },
  {
   "cell_type": "code",
   "execution_count": 24,
   "metadata": {},
   "outputs": [
    {
     "data": {
      "text/plain": [
       "count    1711.0\n",
       "mean        1.0\n",
       "std         0.0\n",
       "min         1.0\n",
       "25%         1.0\n",
       "50%         1.0\n",
       "75%         1.0\n",
       "max         1.0\n",
       "Name: overall, dtype: float64"
      ]
     },
     "execution_count": 24,
     "metadata": {},
     "output_type": "execute_result"
    }
   ],
   "source": [
    "test_des = preprocess.test_data.groupby(['reviewerID']).count()\n",
    "test_des.overall.describe()"
   ]
  },
  {
   "cell_type": "code",
   "execution_count": 25,
   "metadata": {},
   "outputs": [
    {
     "data": {
      "text/plain": [
       "count    800.000000\n",
       "mean      12.713750\n",
       "std       16.234801\n",
       "min        1.000000\n",
       "25%        5.000000\n",
       "50%        9.500000\n",
       "75%       17.000000\n",
       "max      226.000000\n",
       "Name: overall, dtype: float64"
      ]
     },
     "execution_count": 25,
     "metadata": {},
     "output_type": "execute_result"
    }
   ],
   "source": [
    "trainingit_des = preprocess.training_data.groupby(['asin']).count()\n",
    "trainingit_des.overall.describe()"
   ]
  },
  {
   "cell_type": "code",
   "execution_count": 26,
   "metadata": {},
   "outputs": [
    {
     "name": "stdout",
     "output_type": "stream",
     "text": [
      "           asin  count  mean rate\n",
      "50   B0001FS9NE    226   4.929204\n",
      "18   B000050ZRE    226   4.929204\n",
      "41   B0000AZJY6    224   4.928571\n",
      "560  B00EZPXYP4     91   4.384615\n",
      "569  B00F8K9MZQ     66   4.318182\n",
      "           asin  count  mean rate\n",
      "214  B0015CA9VW      1        5.0\n",
      "217  B0015T5Q86      3        5.0\n",
      "213  B0014ZQMXO      2        5.0\n",
      "206  B0014A2LJ8      1        5.0\n",
      "191  B0013MCZRK      2        5.0\n"
     ]
    }
   ],
   "source": [
    "trainingit_head = preprocess.training_data.groupby(['asin']).size().reset_index(name='count') \n",
    "trainingit_head['mean rate'] = list(preprocess.training_data.groupby(['asin'])['overall'].mean())\n",
    "print(trainingit_head.sort_values(['count'], ascending=False)\\\n",
    "                            .head(5))\n",
    "print(trainingit_head.sort_values(['mean rate'], ascending=False)\\\n",
    "                            .head(5))\n"
   ]
  },
  {
   "cell_type": "markdown",
   "metadata": {},
   "source": [
    "# Part 2"
   ]
  },
  {
   "cell_type": "code",
   "execution_count": 27,
   "metadata": {},
   "outputs": [],
   "source": [
    "coll_recommend = msy.Collaborativefiltering_recommendation(reuse=preprocess)"
   ]
  },
  {
   "cell_type": "markdown",
   "metadata": {},
   "source": [
    "### 3-fold cross-validation"
   ]
  },
  {
   "cell_type": "code",
   "execution_count": 28,
   "metadata": {},
   "outputs": [
    {
     "name": "stdout",
     "output_type": "stream",
     "text": [
      "Computing the msd similarity matrix...\n",
      "Computing the msd similarity matrix...\n",
      "Computing the msd similarity matrix...\n",
      "Computing the cosine similarity matrix...\n",
      "Computing the cosine similarity matrix...\n",
      "Computing the cosine similarity matrix...\n",
      "Computing the pearson similarity matrix...\n",
      "Computing the pearson similarity matrix...\n",
      "Done computing similarity matrix.\n",
      "Done computing similarity matrix.\n",
      "Done computing similarity matrix.\n",
      "Computing the pearson similarity matrix...\n",
      "Estimating biases using als...\n",
      "Computing the pearson_baseline similarity matrix...\n",
      "Estimating biases using als...\n",
      "Computing the pearson_baseline similarity matrix...\n",
      "Done computing similarity matrix.\n",
      "Done computing similarity matrix.\n",
      "Done computing similarity matrix.\n",
      "Done computing similarity matrix.\n",
      "Done computing similarity matrix.\n",
      "Estimating biases using als...\n",
      "Done computing similarity matrix.\n",
      "Computing the msd similarity matrix...\n",
      "Computing the pearson_baseline similarity matrix...\n",
      "Computing the msd similarity matrix...\n",
      "Done computing similarity matrix.\n",
      "Computing the msd similarity matrix...\n",
      "Done computing similarity matrix.\n",
      "Computing the cosine similarity matrix...\n",
      "Done computing similarity matrix.\n",
      "Computing the cosine similarity matrix...\n",
      "Done computing similarity matrix.\n",
      "Done computing similarity matrix.\n",
      "Computing the cosine similarity matrix...\n",
      "Done computing similarity matrix.\n",
      "Computing the pearson similarity matrix...\n",
      "Computing the pearson similarity matrix...\n",
      "Computing the pearson similarity matrix...\n",
      "Estimating biases using als...\n",
      "Done computing similarity matrix.\n",
      "Computing the pearson_baseline similarity matrix...\n",
      "Estimating biases using als...\n",
      "Computing the pearson_baseline similarity matrix...\n",
      "Done computing similarity matrix.\n",
      "Done computing similarity matrix.\n",
      "Estimating biases using als...\n",
      "Done computing similarity matrix.\n",
      "Computing the pearson_baseline similarity matrix...\n",
      "Done computing similarity matrix.\n",
      "Computing the msd similarity matrix...\n",
      "Computing the msd similarity matrix...\n",
      "Done computing similarity matrix.\n",
      "Done computing similarity matrix.\n",
      "Done computing similarity matrix.\n",
      "Done computing similarity matrix.\n",
      "Done computing similarity matrix.\n",
      "Computing the msd similarity matrix...\n",
      "Computing the cosine similarity matrix...\n",
      "Done computing similarity matrix.\n",
      "Done computing similarity matrix.\n",
      "Computing the cosine similarity matrix...\n",
      "Computing the cosine similarity matrix...\n",
      "Computing the pearson similarity matrix...\n",
      "Computing the pearson similarity matrix...\n",
      "Computing the pearson similarity matrix...\n",
      "Estimating biases using als...\n",
      "Computing the pearson_baseline similarity matrix...\n",
      "Done computing similarity matrix.\n",
      "Estimating biases using als...\n",
      "Computing the pearson_baseline similarity matrix...\n",
      "Done computing similarity matrix.\n",
      "Done computing similarity matrix.\n",
      "Done computing similarity matrix.\n",
      "Estimating biases using als...\n",
      "Computing the pearson_baseline similarity matrix...\n",
      "Done computing similarity matrix.\n",
      "Computing the msd similarity matrix...\n",
      "Done computing similarity matrix.\n",
      "Done computing similarity matrix.\n",
      "Computing the msd similarity matrix...\n",
      "Computing the msd similarity matrix...\n",
      "Done computing similarity matrix.\n",
      "Done computing similarity matrix.\n",
      "Done computing similarity matrix.\n",
      "Computing the cosine similarity matrix...\n",
      "Done computing similarity matrix.\n",
      "Done computing similarity matrix.\n",
      "Computing the cosine similarity matrix...\n",
      "Computing the cosine similarity matrix...\n",
      "Computing the pearson similarity matrix...\n",
      "Computing the pearson similarity matrix...\n",
      "Computing the pearson similarity matrix...\n",
      "Estimating biases using als...\n",
      "Computing the pearson_baseline similarity matrix...\n",
      "Estimating biases using als...\n",
      "Computing the pearson_baseline similarity matrix...\n",
      "Done computing similarity matrix.\n",
      "Done computing similarity matrix.\n",
      "Done computing similarity matrix.\n",
      "Done computing similarity matrix.\n",
      "Done computing similarity matrix.\n",
      "Estimating biases using als...\n",
      "Computing the pearson_baseline similarity matrix...\n",
      "Done computing similarity matrix.\n",
      "Done computing similarity matrix.\n",
      "Done computing similarity matrix.\n",
      "Done computing similarity matrix.\n"
     ]
    }
   ],
   "source": [
    "gs_knn = coll_recommend.gridsearch('knn')\n",
    "gs_svd = coll_recommend.gridsearch('svd')"
   ]
  },
  {
   "cell_type": "code",
   "execution_count": 29,
   "metadata": {},
   "outputs": [
    {
     "name": "stdout",
     "output_type": "stream",
     "text": [
      "{'rmse': 1.2140536187070865}\n",
      "{'k': 5, 'sim_options': {'name': 'pearson', 'user_based': True}}\n",
      "{'rmse': 1.1389858056460782}\n",
      "{'n_epochs': 800, 'n_factors': 50, 'random_state': 0}\n"
     ]
    }
   ],
   "source": [
    "print(gs_knn.best_score)\n",
    "print(gs_knn.best_params['rmse'])\n",
    "print(gs_svd.best_score)\n",
    "print(gs_svd.best_params['rmse'])"
   ]
  },
  {
   "cell_type": "code",
   "execution_count": 30,
   "metadata": {},
   "outputs": [
    {
     "name": "stdout",
     "output_type": "stream",
     "text": [
      "Computing the pearson similarity matrix...\n",
      "Done computing similarity matrix.\n"
     ]
    }
   ],
   "source": [
    "knn_est, knn_model = coll_recommend.knn(\n",
    "    k=5, sim_options={'name': 'pearson', 'user_based': True})\n",
    "svd_est, svd_model = coll_recommend.svd(n_epochs=800, n_factors=50, random_state=0)\n"
   ]
  },
  {
   "cell_type": "markdown",
   "metadata": {},
   "source": [
    "## Part 3"
   ]
  },
  {
   "cell_type": "code",
   "execution_count": 31,
   "metadata": {},
   "outputs": [],
   "source": [
    "knn_evalue = msy.Evaluation(knn_est, reuse=preprocess)\n",
    "svd_evalue = msy.Evaluation(svd_est, reuse=preprocess)"
   ]
  },
  {
   "cell_type": "code",
   "execution_count": 32,
   "metadata": {},
   "outputs": [
    {
     "name": "stdout",
     "output_type": "stream",
     "text": [
      "knn mpk+ 0.003741\n",
      "knn mapk+ 0.008816\n",
      "knn mrrk+ 0.008816\n",
      "knn hrk+ 0.018703\n"
     ]
    }
   ],
   "source": [
    "print('knn mpk+ {:.6f}'.format(knn_evalue.mean_k(5,'p_k')))\n",
    "print('knn mapk+ {:.6f}'.format(knn_evalue.mean_k(5,'ap_k')))\n",
    "print('knn mrrk+ {:.6f}'.format(knn_evalue.mean_k(5,'rr_k')))\n",
    "print('knn hrk+ {:.6f}'.format(knn_evalue.mean_k(5,'hr_k')))"
   ]
  },
  {
   "cell_type": "code",
   "execution_count": 33,
   "metadata": {},
   "outputs": [
    {
     "name": "stdout",
     "output_type": "stream",
     "text": [
      "svd mpk+ 0.001870\n",
      "svd mapk+ 0.003078\n",
      "svd mrrk+ 0.003078\n",
      "svd hrk+ 0.009351\n"
     ]
    }
   ],
   "source": [
    "print('svd mpk+ {:.6f}'.format(svd_evalue.mean_k(5,'p_k')))\n",
    "print('svd mapk+ {:.6f}'.format(svd_evalue.mean_k(5,'ap_k')))\n",
    "print('svd mrrk+ {:.6f}'.format(svd_evalue.mean_k(5,'rr_k')))\n",
    "print('svd hrk+ {:.6f}'.format(svd_evalue.mean_k(5,'hr_k')))"
   ]
  },
  {
   "cell_type": "code",
   "execution_count": 34,
   "metadata": {},
   "outputs": [
    {
     "name": "stdout",
     "output_type": "stream",
     "text": [
      "RMSE: 0.9793\n",
      "knn rmse+ 0.9793299211533906\n",
      "RMSE: 0.7191\n",
      "svd rmse+ 0.7190771856550636\n"
     ]
    }
   ],
   "source": [
    "print('knn rmse+ {}'.format(knn_evalue.rmse()))\n",
    "print('svd rmse+ {}'.format(svd_evalue.rmse()))"
   ]
  },
  {
   "cell_type": "code",
   "execution_count": 35,
   "metadata": {},
   "outputs": [],
   "source": [
    "\n",
    "first_uid = coll_recommend.surprice_training.build_full_trainset().\\\n",
    "    to_inner_uid(list(coll_recommend.test_data.sort_values(\n",
    "    by='unixReviewTime')['reviewerID'])[0])\n",
    "last_uid = coll_recommend.surprice_training.build_full_trainset().\\\n",
    "    to_inner_uid(list(coll_recommend.test_data.sort_values(\n",
    "    by='unixReviewTime')['reviewerID'])[-1])\n",
    "nnfor_fisrt = [list(coll_recommend.test_data.sort_values(\n",
    "    by='unixReviewTime')['reviewerID'])[0]]+[coll_recommend.surprice_training.build_full_trainset().\\\n",
    "    to_raw_uid(i) for i in knn_model.get_neighbors(first_uid, 10)]\n",
    "nnfor_last = [list(coll_recommend.test_data.sort_values(\n",
    "    by='unixReviewTime')['reviewerID'])[-1]]+[coll_recommend.surprice_training.build_full_trainset().\\\n",
    "    to_raw_uid(i) for i in knn_model.get_neighbors(last_uid, 10)]\n"
   ]
  },
  {
   "cell_type": "code",
   "execution_count": 36,
   "metadata": {},
   "outputs": [],
   "source": [
    "first_user_nn10_matrix = coll_recommend.customer_ui_matrix(user_list=nnfor_fisrt)\n",
    "last_user_nn10_matrix = coll_recommend.customer_ui_matrix(user_list=nnfor_last)"
   ]
  },
  {
   "cell_type": "code",
   "execution_count": 37,
   "metadata": {},
   "outputs": [
    {
     "name": "stdout",
     "output_type": "stream",
     "text": [
      "asin            B005S4Y65I  B009CCVMO0  B00F8K9KZS  B00BR082FW  B000UJUJ7U  \\\n",
      "A2G0O4Y8QE10AE           0           0           0           0           0   \n",
      "A100UD67AHFODS           5           5           5           5           0   \n",
      "A105S56ODHGJEK           0           0           0           0           3   \n",
      "A1075X1Q4M3S78           0           0           0           0           0   \n",
      "A10C5CJK1YKGV0           0           0           0           0           0   \n",
      "A10CRW7XRJBJ2G           0           0           0           0           0   \n",
      "A10EIJM2C94M14           0           0           0           0           0   \n",
      "A10G3LHNAK4GEH           0           0           0           0           0   \n",
      "A10G4BPT5MGBHY           0           0           0           0           0   \n",
      "A10GU5NVTA5I67           0           0           0           0           0   \n",
      "A10NC6ZVVMBHNH           0           0           0           0           0   \n",
      "\n",
      "asin            B0013O54OE  B001AFFZM2  B001EJQTUG  B001UO8M8M  B001W2Y5Q0  \\\n",
      "A2G0O4Y8QE10AE           0           0           0           0           0   \n",
      "A100UD67AHFODS           0           0           0           0           0   \n",
      "A105S56ODHGJEK           1           5           4           5           5   \n",
      "A1075X1Q4M3S78           0           0           0           0           0   \n",
      "A10C5CJK1YKGV0           0           4           0           0           0   \n",
      "A10CRW7XRJBJ2G           0           0           0           0           0   \n",
      "A10EIJM2C94M14           0           0           0           0           0   \n",
      "A10G3LHNAK4GEH           0           0           0           0           0   \n",
      "A10G4BPT5MGBHY           0           0           0           0           0   \n",
      "A10GU5NVTA5I67           0           0           0           0           0   \n",
      "A10NC6ZVVMBHNH           0           0           0           0           0   \n",
      "\n",
      "asin            ...  B000XIH9R6  B000ZH8YM4  B000Z3GSXK  B0017UBJBG  \\\n",
      "A2G0O4Y8QE10AE  ...           0           0           0           0   \n",
      "A100UD67AHFODS  ...           0           0           0           0   \n",
      "A105S56ODHGJEK  ...           0           0           0           0   \n",
      "A1075X1Q4M3S78  ...           0           0           0           0   \n",
      "A10C5CJK1YKGV0  ...           0           0           0           0   \n",
      "A10CRW7XRJBJ2G  ...           0           0           0           0   \n",
      "A10EIJM2C94M14  ...           0           0           0           0   \n",
      "A10G3LHNAK4GEH  ...           0           0           0           0   \n",
      "A10G4BPT5MGBHY  ...           0           0           0           0   \n",
      "A10GU5NVTA5I67  ...           0           0           0           0   \n",
      "A10NC6ZVVMBHNH  ...           0           0           0           0   \n",
      "\n",
      "asin            B000ZQAS0Q  B00113N12E  B0013YFI68  B0011DM0IA  B000XS9YJW  \\\n",
      "A2G0O4Y8QE10AE           0           0           0           0           0   \n",
      "A100UD67AHFODS           0           0           0           0           0   \n",
      "A105S56ODHGJEK           0           0           0           0           0   \n",
      "A1075X1Q4M3S78           0           0           0           0           0   \n",
      "A10C5CJK1YKGV0           0           0           0           0           0   \n",
      "A10CRW7XRJBJ2G           0           0           0           0           0   \n",
      "A10EIJM2C94M14           0           0           0           0           0   \n",
      "A10G3LHNAK4GEH           0           0           0           0           0   \n",
      "A10G4BPT5MGBHY           0           0           0           0           0   \n",
      "A10GU5NVTA5I67           0           0           0           0           0   \n",
      "A10NC6ZVVMBHNH           0           0           0           0           0   \n",
      "\n",
      "asin            B00132DENO  \n",
      "A2G0O4Y8QE10AE           0  \n",
      "A100UD67AHFODS           0  \n",
      "A105S56ODHGJEK           0  \n",
      "A1075X1Q4M3S78           0  \n",
      "A10C5CJK1YKGV0           0  \n",
      "A10CRW7XRJBJ2G           0  \n",
      "A10EIJM2C94M14           0  \n",
      "A10G3LHNAK4GEH           0  \n",
      "A10G4BPT5MGBHY           0  \n",
      "A10GU5NVTA5I67           0  \n",
      "A10NC6ZVVMBHNH           0  \n",
      "\n",
      "[11 rows x 800 columns]\n"
     ]
    }
   ],
   "source": [
    "print(first_user_nn10_matrix)"
   ]
  },
  {
   "cell_type": "code",
   "execution_count": 38,
   "metadata": {},
   "outputs": [
    {
     "name": "stdout",
     "output_type": "stream",
     "text": [
      "asin            B005S4Y65I  B009CCVMO0  B00F8K9KZS  B00BR082FW  B000UJUJ7U  \\\n",
      "A2SACTIFMC5DXO           0           0           0           0           0   \n",
      "A23E9QQHJLNGUI           0           0           0           0           0   \n",
      "A2DV14M0BC6YY1           0           0           0           0           0   \n",
      "A100UD67AHFODS           5           5           5           5           0   \n",
      "A105S56ODHGJEK           0           0           0           0           3   \n",
      "A1075X1Q4M3S78           0           0           0           0           0   \n",
      "A10C5CJK1YKGV0           0           0           0           0           0   \n",
      "A10CRW7XRJBJ2G           0           0           0           0           0   \n",
      "A10EIJM2C94M14           0           0           0           0           0   \n",
      "A10G3LHNAK4GEH           0           0           0           0           0   \n",
      "A10G4BPT5MGBHY           0           0           0           0           0   \n",
      "\n",
      "asin            B0013O54OE  B001AFFZM2  B001EJQTUG  B001UO8M8M  B001W2Y5Q0  \\\n",
      "A2SACTIFMC5DXO           0           0           0           0           0   \n",
      "A23E9QQHJLNGUI           0           0           0           0           0   \n",
      "A2DV14M0BC6YY1           0           0           0           0           0   \n",
      "A100UD67AHFODS           0           0           0           0           0   \n",
      "A105S56ODHGJEK           1           5           4           5           5   \n",
      "A1075X1Q4M3S78           0           0           0           0           0   \n",
      "A10C5CJK1YKGV0           0           4           0           0           0   \n",
      "A10CRW7XRJBJ2G           0           0           0           0           0   \n",
      "A10EIJM2C94M14           0           0           0           0           0   \n",
      "A10G3LHNAK4GEH           0           0           0           0           0   \n",
      "A10G4BPT5MGBHY           0           0           0           0           0   \n",
      "\n",
      "asin            ...  B000XIH9R6  B000ZH8YM4  B000Z3GSXK  B0017UBJBG  \\\n",
      "A2SACTIFMC5DXO  ...           0           0           0           0   \n",
      "A23E9QQHJLNGUI  ...           0           0           0           0   \n",
      "A2DV14M0BC6YY1  ...           0           0           0           0   \n",
      "A100UD67AHFODS  ...           0           0           0           0   \n",
      "A105S56ODHGJEK  ...           0           0           0           0   \n",
      "A1075X1Q4M3S78  ...           0           0           0           0   \n",
      "A10C5CJK1YKGV0  ...           0           0           0           0   \n",
      "A10CRW7XRJBJ2G  ...           0           0           0           0   \n",
      "A10EIJM2C94M14  ...           0           0           0           0   \n",
      "A10G3LHNAK4GEH  ...           0           0           0           0   \n",
      "A10G4BPT5MGBHY  ...           0           0           0           0   \n",
      "\n",
      "asin            B000ZQAS0Q  B00113N12E  B0013YFI68  B0011DM0IA  B000XS9YJW  \\\n",
      "A2SACTIFMC5DXO           0           0           0           0           0   \n",
      "A23E9QQHJLNGUI           0           0           0           0           0   \n",
      "A2DV14M0BC6YY1           0           0           0           0           0   \n",
      "A100UD67AHFODS           0           0           0           0           0   \n",
      "A105S56ODHGJEK           0           0           0           0           0   \n",
      "A1075X1Q4M3S78           0           0           0           0           0   \n",
      "A10C5CJK1YKGV0           0           0           0           0           0   \n",
      "A10CRW7XRJBJ2G           0           0           0           0           0   \n",
      "A10EIJM2C94M14           0           0           0           0           0   \n",
      "A10G3LHNAK4GEH           0           0           0           0           0   \n",
      "A10G4BPT5MGBHY           0           0           0           0           0   \n",
      "\n",
      "asin            B00132DENO  \n",
      "A2SACTIFMC5DXO           0  \n",
      "A23E9QQHJLNGUI           0  \n",
      "A2DV14M0BC6YY1           0  \n",
      "A100UD67AHFODS           0  \n",
      "A105S56ODHGJEK           0  \n",
      "A1075X1Q4M3S78           0  \n",
      "A10C5CJK1YKGV0           0  \n",
      "A10CRW7XRJBJ2G           0  \n",
      "A10EIJM2C94M14           0  \n",
      "A10G3LHNAK4GEH           0  \n",
      "A10G4BPT5MGBHY           0  \n",
      "\n",
      "[11 rows x 800 columns]\n"
     ]
    }
   ],
   "source": [
    "print(last_user_nn10_matrix)"
   ]
  },
  {
   "cell_type": "code",
   "execution_count": 39,
   "metadata": {},
   "outputs": [],
   "source": [
    "fun10_np = first_user_nn10_matrix.to_numpy()\n",
    "reset_fun10_np = []\n",
    "for i in range(len(fun10_np)):\n",
    "    reset_fun10_np.append(np.where(fun10_np[i] == 0, np.mean([item for item in fun10_np[i] if item != 0]), fun10_np[i]))\n",
    "reset_fun10_cs = cosine_similarity(reset_fun10_np[1:], [reset_fun10_np[0]])\n",
    "fun10_cs = cosine_similarity(fun10_np[1:],[fun10_np[0]])\n",
    "lun10_np = last_user_nn10_matrix.to_numpy()\n",
    "reset_lun10_np = []\n",
    "for i in range(len(lun10_np)):\n",
    "    reset_lun10_np.append(np.where(lun10_np[i] == 0, np.mean([item for item in lun10_np[i] if item != 0]), lun10_np[i]))\n",
    "reset_lun10_cs = cosine_similarity(reset_lun10_np[1:], [reset_lun10_np[0]])\n",
    "lun10_cs = cosine_similarity(lun10_np[1:],[lun10_np[0]])\n"
   ]
  },
  {
   "cell_type": "code",
   "execution_count": 40,
   "metadata": {},
   "outputs": [
    {
     "name": "stdout",
     "output_type": "stream",
     "text": [
      "[[0.]\n",
      " [0.]\n",
      " [0.]\n",
      " [0.]\n",
      " [0.]\n",
      " [0.]\n",
      " [0.]\n",
      " [0.]\n",
      " [0.]\n",
      " [0.]]\n",
      "[[0.2116083 ]\n",
      " [0.19762338]\n",
      " [0.        ]\n",
      " [0.        ]\n",
      " [0.        ]\n",
      " [0.        ]\n",
      " [0.        ]\n",
      " [0.        ]\n",
      " [0.        ]\n",
      " [0.        ]]\n"
     ]
    }
   ],
   "source": [
    "print(fun10_cs)\n",
    "print(lun10_cs)"
   ]
  },
  {
   "cell_type": "code",
   "execution_count": 41,
   "metadata": {},
   "outputs": [
    {
     "name": "stdout",
     "output_type": "stream",
     "text": [
      "[[1.        ]\n",
      " [0.99779248]\n",
      " [1.        ]\n",
      " [0.99945357]\n",
      " [0.99958359]\n",
      " [1.        ]\n",
      " [0.99994213]\n",
      " [0.99931194]\n",
      " [0.99997923]\n",
      " [0.999745  ]]\n",
      "[[0.9981022 ]\n",
      " [0.99836939]\n",
      " [0.99967762]\n",
      " [0.99747081]\n",
      " [0.99967762]\n",
      " [0.99913137]\n",
      " [0.99926135]\n",
      " [0.99967762]\n",
      " [0.99961978]\n",
      " [0.99898978]]\n"
     ]
    }
   ],
   "source": [
    "print(reset_fun10_cs)\n",
    "print(reset_lun10_cs)"
   ]
  },
  {
   "cell_type": "code",
   "execution_count": 42,
   "metadata": {},
   "outputs": [],
   "source": [
    "prediction_dic = knn_evalue.rank_k()"
   ]
  },
  {
   "cell_type": "code",
   "execution_count": 43,
   "metadata": {},
   "outputs": [
    {
     "name": "stdout",
     "output_type": "stream",
     "text": [
      "A2G0O4Y8QE10AE  rr+  0.001594896331738437\n",
      "A100UD67AHFODS  rr+  0.004608294930875576\n",
      "A105S56ODHGJEK  rr+  0.002898550724637681\n",
      "A1075X1Q4M3S78  rr+  0.02040816326530612\n",
      "A10C5CJK1YKGV0  rr+  0.0022123893805309734\n",
      "A10CRW7XRJBJ2G  rr+  0.0025575447570332483\n",
      "A10EIJM2C94M14  rr+  0.0027100271002710027\n",
      "A10G3LHNAK4GEH  rr+  0.02127659574468085\n",
      "A10G4BPT5MGBHY  rr+  0.0024813895781637717\n",
      "A10GU5NVTA5I67  rr+  0.0038314176245210726\n",
      "A10NC6ZVVMBHNH  rr+  0.0013315579227696406\n"
     ]
    }
   ],
   "source": [
    "for uid in nnfor_fisrt:\n",
    "    print(uid,' rr+ ',knn_evalue.rr_k_user(prediction_dic[uid],uid,len(prediction_dic[uid])))"
   ]
  },
  {
   "cell_type": "code",
   "execution_count": 44,
   "metadata": {},
   "outputs": [
    {
     "name": "stdout",
     "output_type": "stream",
     "text": [
      "A2SACTIFMC5DXO  rr+  0.009433962264150943\n",
      "A23E9QQHJLNGUI  rr+  0.0014814814814814814\n",
      "A2DV14M0BC6YY1  rr+  0\n",
      "A100UD67AHFODS  rr+  0.004608294930875576\n",
      "A105S56ODHGJEK  rr+  0.002898550724637681\n",
      "A1075X1Q4M3S78  rr+  0.02040816326530612\n",
      "A10C5CJK1YKGV0  rr+  0.0022123893805309734\n",
      "A10CRW7XRJBJ2G  rr+  0.0025575447570332483\n",
      "A10EIJM2C94M14  rr+  0.0027100271002710027\n",
      "A10G3LHNAK4GEH  rr+  0.02127659574468085\n",
      "A10G4BPT5MGBHY  rr+  0.0024813895781637717\n"
     ]
    }
   ],
   "source": [
    "for uid in nnfor_last:\n",
    "    print(uid,' rr+ ',knn_evalue.rr_k_user(prediction_dic[uid],uid,len(prediction_dic[uid])))"
   ]
  },
  {
   "cell_type": "markdown",
   "metadata": {},
   "source": [
    "## Part4"
   ]
  },
  {
   "cell_type": "code",
   "execution_count": 45,
   "metadata": {},
   "outputs": [
    {
     "name": "stderr",
     "output_type": "stream",
     "text": [
      "Some weights of the model checkpoint at bert-base-uncased were not used when initializing BertModel: ['cls.predictions.transform.dense.weight', 'cls.predictions.transform.LayerNorm.weight', 'cls.predictions.transform.dense.bias', 'cls.seq_relationship.bias', 'cls.seq_relationship.weight', 'cls.predictions.decoder.weight', 'cls.predictions.bias', 'cls.predictions.transform.LayerNorm.bias']\n",
      "- This IS expected if you are initializing BertModel from the checkpoint of a model trained on another task or with another architecture (e.g. initializing a BertForSequenceClassification model from a BertForPreTraining model).\n",
      "- This IS NOT expected if you are initializing BertModel from the checkpoint of a model that you expect to be exactly identical (initializing a BertForSequenceClassification model from a BertForSequenceClassification model).\n"
     ]
    }
   ],
   "source": [
    "tfidf_model = msy.Contentbased_recommendation(reuse=preprocess)\n",
    "word2vec_model = msy.Contentbased_recommendation(reuse=preprocess,word2vec=True)\n",
    "bert_model = msy.Contentbased_recommendation(reuse=preprocess,bert=True)"
   ]
  },
  {
   "cell_type": "code",
   "execution_count": null,
   "metadata": {},
   "outputs": [],
   "source": [
    "# bert_model = msy.Contentbased_recommendation(reuse=preprocess,bert=True)"
   ]
  },
  {
   "cell_type": "code",
   "execution_count": 46,
   "metadata": {},
   "outputs": [
    {
     "name": "stdout",
     "output_type": "stream",
     "text": [
      "622\n"
     ]
    }
   ],
   "source": [
    "tfidf_model.print_words_num()"
   ]
  },
  {
   "cell_type": "code",
   "execution_count": 47,
   "metadata": {},
   "outputs": [
    {
     "name": "stdout",
     "output_type": "stream",
     "text": [
      "(801, 618)\n"
     ]
    }
   ],
   "source": [
    "print(tfidf_model.tfidf.to_numpy().shape)"
   ]
  },
  {
   "cell_type": "code",
   "execution_count": 48,
   "metadata": {},
   "outputs": [
    {
     "name": "stdout",
     "output_type": "stream",
     "text": [
      "tfidf  +  [[1.         0.40876432 0.38100113 0.         0.        ]\n",
      " [0.40876432 1.         0.66379832 0.         0.        ]\n",
      " [0.38100113 0.66379832 1.         0.         0.        ]\n",
      " [0.         0.         0.         1.         0.        ]\n",
      " [0.         0.         0.         0.         1.        ]]\n",
      "word2vec  +  [[1.         0.49886109 0.48628955 0.64383875 0.3779223 ]\n",
      " [0.49886109 1.         0.82148934 0.40978907 0.32713615]\n",
      " [0.48628955 0.82148934 1.         0.43663537 0.3267278 ]\n",
      " [0.64383875 0.40978907 0.43663537 1.         0.41686391]\n",
      " [0.3779223  0.32713615 0.3267278  0.41686391 1.        ]]\n",
      "bert  +  [[1.         0.82374993 0.83612338 0.61856529 0.64412636]\n",
      " [0.82374993 1.         0.94925152 0.66393282 0.62677793]\n",
      " [0.83612338 0.94925152 1.         0.67859027 0.67339287]\n",
      " [0.61856529 0.66393282 0.67859027 1.         0.70500187]\n",
      " [0.64412636 0.62677793 0.67339287 0.70500187 1.        ]]\n"
     ]
    }
   ],
   "source": [
    "print('tfidf',' + ' ,cosine_similarity(tfidf_model.tfidf.iloc[:5,:].to_numpy()))\n",
    "print('word2vec',' + ' ,cosine_similarity(word2vec_model.tfidf.iloc[:5,:].to_numpy()))\n",
    "print('bert',' + ' ,cosine_similarity(bert_model.tfidf.iloc[:5,:].to_numpy()))"
   ]
  },
  {
   "cell_type": "markdown",
   "metadata": {},
   "source": [
    "## Part 5"
   ]
  },
  {
   "cell_type": "code",
   "execution_count": 49,
   "metadata": {},
   "outputs": [],
   "source": [
    "tfidf_prediction = tfidf_model.predict()\n",
    "word2vec_prediction = word2vec_model.predict()\n",
    "bert_prediction = bert_model.predict()"
   ]
  },
  {
   "cell_type": "code",
   "execution_count": 50,
   "metadata": {},
   "outputs": [],
   "source": [
    "tfidf_evalue = msy.Evaluation(tfidf_prediction, reuse=preprocess)\n",
    "word2vec_evalue = msy.Evaluation(word2vec_prediction, reuse=preprocess)\n",
    "bert_evalue = msy.Evaluation(bert_prediction, reuse=preprocess)"
   ]
  },
  {
   "cell_type": "code",
   "execution_count": 51,
   "metadata": {},
   "outputs": [
    {
     "name": "stdout",
     "output_type": "stream",
     "text": [
      "tfidf mpk+ 0.041613\n",
      "tfidf mapk+ 0.162293\n",
      "tfidf mrrk+ 0.162293\n",
      "tfidf hr+ 0.208065\n"
     ]
    }
   ],
   "source": [
    "print('tfidf mpk+ {:.6f}'.format(tfidf_evalue.mean_k(5,'p_k')))\n",
    "print('tfidf mapk+ {:.6f}'.format(tfidf_evalue.mean_k(5,'ap_k')))\n",
    "print('tfidf mrrk+ {:.6f}'.format(tfidf_evalue.mean_k(5,'rr_k')))\n",
    "print('tfidf hr+ {:.6f}'.format(tfidf_evalue.mean_k(5,'hr_k')))"
   ]
  },
  {
   "cell_type": "code",
   "execution_count": 52,
   "metadata": {},
   "outputs": [
    {
     "name": "stdout",
     "output_type": "stream",
     "text": [
      "word2vec mpk+ 0.035067\n",
      "word2vec mapk+ 0.147078\n",
      "word2vec mrrk+ 0.147078\n",
      "word2vec hr+ 0.175336\n"
     ]
    }
   ],
   "source": [
    "print('word2vec mpk+ {:.6f}'.format(word2vec_evalue.mean_k(5,'p_k')))\n",
    "print('word2vec mapk+ {:.6f}'.format(word2vec_evalue.mean_k(5,'ap_k')))\n",
    "print('word2vec mrrk+ {:.6f}'.format(word2vec_evalue.mean_k(5,'rr_k')))\n",
    "print('word2vec hr+ {:.6f}'.format(word2vec_evalue.mean_k(5,'hr_k')))"
   ]
  },
  {
   "cell_type": "code",
   "execution_count": 53,
   "metadata": {},
   "outputs": [
    {
     "name": "stdout",
     "output_type": "stream",
     "text": [
      "bert mpk+ 0.035885\n",
      "bert mapk+ 0.061368\n",
      "bert mrrk+ 0.061368\n",
      "bert hr+ 0.179427\n"
     ]
    }
   ],
   "source": [
    "print('bert mpk+ {:.6f}'.format(bert_evalue.mean_k(5,'p_k')))\n",
    "print('bert mapk+ {:.6f}'.format(bert_evalue.mean_k(5,'ap_k')))\n",
    "print('bert mrrk+ {:.6f}'.format(bert_evalue.mean_k(5,'rr_k')))\n",
    "print('bert hr+ {:.6f}'.format(bert_evalue.mean_k(5,'hr_k')))"
   ]
  },
  {
   "cell_type": "markdown",
   "metadata": {},
   "source": [
    "## Part 6"
   ]
  },
  {
   "cell_type": "code",
   "execution_count": 54,
   "metadata": {},
   "outputs": [],
   "source": [
    "#importlib.reload(msy)"
   ]
  },
  {
   "cell_type": "code",
   "execution_count": 55,
   "metadata": {},
   "outputs": [],
   "source": [
    "evaluation_list = [svd_evalue, tfidf_evalue]"
   ]
  },
  {
   "cell_type": "code",
   "execution_count": 56,
   "metadata": {},
   "outputs": [],
   "source": [
    "hybrid_model = msy.Hybridrecommender_system(evaluation_list=evaluation_list, reuse=preprocess, userprofile=tfidf_model.user_mean_vector)"
   ]
  },
  {
   "cell_type": "code",
   "execution_count": 57,
   "metadata": {},
   "outputs": [],
   "source": [
    "ws_pred_11 = hybrid_model.weight_strategy([1,1])\n",
    "ws_pred_12 = hybrid_model.weight_strategy([1,2])\n",
    "ws_pred_21 = hybrid_model.weight_strategy([2,1])"
   ]
  },
  {
   "cell_type": "code",
   "execution_count": 58,
   "metadata": {},
   "outputs": [],
   "source": [
    "ws11_evalue = msy.Evaluation(ws_pred_11,reuse=preprocess)\n",
    "ws12_evalue = msy.Evaluation(ws_pred_12,reuse=preprocess)\n",
    "ws21_evalue = msy.Evaluation(ws_pred_21,reuse=preprocess)"
   ]
  },
  {
   "cell_type": "code",
   "execution_count": 59,
   "metadata": {},
   "outputs": [
    {
     "name": "stdout",
     "output_type": "stream",
     "text": [
      "ws mpk+ 0.041847 with weight [1,1]\n",
      "ws mapk+ 0.161601 with weight [1,1]\n",
      "ws mrrk+ 0.161601 with weight [1,1]\n",
      "ws hr+ 0.209234 with weight [1,1]\n"
     ]
    }
   ],
   "source": [
    "print('ws mpk+ {:.6f} with weight [1,1]'.format(ws11_evalue.mean_k(5,'p_k')))\n",
    "print('ws mapk+ {:.6f} with weight [1,1]'.format(ws11_evalue.mean_k(5,'ap_k')))\n",
    "print('ws mrrk+ {:.6f} with weight [1,1]'.format(ws11_evalue.mean_k(5,'rr_k')))\n",
    "print('ws hr+ {:.6f} with weight [1,1]'.format(ws11_evalue.mean_k(5,'hr_k')))"
   ]
  },
  {
   "cell_type": "code",
   "execution_count": 60,
   "metadata": {},
   "outputs": [
    {
     "name": "stdout",
     "output_type": "stream",
     "text": [
      "ws mpk+ 0.042548 with weight [1,2]\n",
      "ws mapk+ 0.164757 with weight [1,2]\n",
      "ws mrrk+ 0.164757 with weight [1,2]\n",
      "ws hr+ 0.212741 with weight [1,2]\n"
     ]
    }
   ],
   "source": [
    "print('ws mpk+ {:.6f} with weight [1,2]'.format(ws12_evalue.mean_k(5,'p_k')))\n",
    "print('ws mapk+ {:.6f} with weight [1,2]'.format(ws12_evalue.mean_k(5,'ap_k')))\n",
    "print('ws mrrk+ {:.6f} with weight [1,2]'.format(ws12_evalue.mean_k(5,'rr_k')))\n",
    "print('ws hr+ {:.6f} with weight [1,2]'.format(ws12_evalue.mean_k(5,'hr_k')))"
   ]
  },
  {
   "cell_type": "code",
   "execution_count": 61,
   "metadata": {},
   "outputs": [
    {
     "name": "stdout",
     "output_type": "stream",
     "text": [
      "ws mpk+ 0.038574 with weight [2,1]\n",
      "ws mapk+ 0.157423 with weight [2,1]\n",
      "ws mrrk+ 0.157423 with weight [2,1]\n",
      "ws hr+ 0.192870 with weight [2,1]\n"
     ]
    }
   ],
   "source": [
    "print('ws mpk+ {:.6f} with weight [2,1]'.format(ws21_evalue.mean_k(5,'p_k')))\n",
    "print('ws mapk+ {:.6f} with weight [2,1]'.format(ws21_evalue.mean_k(5,'ap_k')))\n",
    "print('ws mrrk+ {:.6f} with weight [2,1]'.format(ws21_evalue.mean_k(5,'rr_k')))\n",
    "print('ws hr+ {:.6f} with weight [2,1]'.format(ws21_evalue.mean_k(5,'hr_k')))"
   ]
  },
  {
   "cell_type": "code",
   "execution_count": 62,
   "metadata": {},
   "outputs": [],
   "source": [
    "ss_pred = hybrid_model.switching_strategy()"
   ]
  },
  {
   "cell_type": "code",
   "execution_count": 63,
   "metadata": {},
   "outputs": [],
   "source": [
    "ss_evalue = msy.Evaluation(ss_pred,reuse=preprocess)"
   ]
  },
  {
   "cell_type": "code",
   "execution_count": 64,
   "metadata": {},
   "outputs": [
    {
     "name": "stdout",
     "output_type": "stream",
     "text": [
      "ss mpk+ 0.042314\n",
      "ss mapk+ 0.164144\n",
      "ss mrrk+ 0.164144\n",
      "ss hr+ 0.211572\n"
     ]
    }
   ],
   "source": [
    "print('ss mpk+ {:.6f}'.format(ss_evalue.mean_k(5,'p_k')))\n",
    "print('ss mapk+ {:.6f}'.format(ss_evalue.mean_k(5,'ap_k')))\n",
    "print('ss mrrk+ {:.6f}'.format(ss_evalue.mean_k(5,'rr_k')))\n",
    "print('ss hr+ {:.6f}'.format(ss_evalue.mean_k(5,'hr_k')))"
   ]
  },
  {
   "cell_type": "code",
   "execution_count": 65,
   "metadata": {},
   "outputs": [],
   "source": [
    "ms_pred = hybrid_model.metalevel_strategy(rank=5)"
   ]
  },
  {
   "cell_type": "code",
   "execution_count": 66,
   "metadata": {},
   "outputs": [],
   "source": [
    "ms_evalue = msy.Evaluation(ms_pred,reuse=preprocess)"
   ]
  },
  {
   "cell_type": "code",
   "execution_count": 67,
   "metadata": {},
   "outputs": [
    {
     "name": "stdout",
     "output_type": "stream",
     "text": [
      "ms mpk+ 0.011923\n",
      "ms mapk+ 0.023066\n",
      "ms mrrk+ 0.023066\n",
      "ms hr+ 0.059614\n"
     ]
    }
   ],
   "source": [
    "print('ms mpk+ {:.6f}'.format(ms_evalue.mean_k(5,'p_k')))\n",
    "print('ms mapk+ {:.6f}'.format(ms_evalue.mean_k(5,'ap_k')))\n",
    "print('ms mrrk+ {:.6f}'.format(ms_evalue.mean_k(5,'rr_k')))\n",
    "print('ms hr+ {:.6f}'.format(ms_evalue.mean_k(5,'hr_k')))"
   ]
  },
  {
   "cell_type": "code",
   "execution_count": 68,
   "metadata": {},
   "outputs": [],
   "source": [
    "evaluation_list = [knn_evalue, tfidf_evalue]"
   ]
  },
  {
   "cell_type": "code",
   "execution_count": 69,
   "metadata": {},
   "outputs": [],
   "source": [
    "hybrid_model_knn = msy.Hybridrecommender_system(evaluation_list=evaluation_list, reuse=preprocess, userprofile=tfidf_model.user_mean_vector)"
   ]
  },
  {
   "cell_type": "code",
   "execution_count": 70,
   "metadata": {},
   "outputs": [],
   "source": [
    "ws_pred_11_knn = hybrid_model_knn.weight_strategy([1,1])\n",
    "ws11_evalue_knn = msy.Evaluation(ws_pred_11_knn,reuse=preprocess)"
   ]
  },
  {
   "cell_type": "code",
   "execution_count": 71,
   "metadata": {},
   "outputs": [
    {
     "name": "stdout",
     "output_type": "stream",
     "text": [
      "ws knn mpk+ 0.008767 with weight [1,1]\n",
      "ws knn mapk+ 0.021420 with weight [1,1]\n",
      "ws knn mrrk+ 0.021420 with weight [1,1]\n",
      "ws knn hr+ 0.043834 with weight [1,1]\n"
     ]
    }
   ],
   "source": [
    "print('ws knn mpk+ {:.6f} with weight [1,1]'.format(ws11_evalue_knn.mean_k(5,'p_k')))\n",
    "print('ws knn mapk+ {:.6f} with weight [1,1]'.format(ws11_evalue_knn.mean_k(5,'ap_k')))\n",
    "print('ws knn mrrk+ {:.6f} with weight [1,1]'.format(ws11_evalue_knn.mean_k(5,'rr_k')))\n",
    "print('ws knn hr+ {:.6f} with weight [1,1]'.format(ws11_evalue_knn.mean_k(5,'hr_k')))"
   ]
  },
  {
   "cell_type": "code",
   "execution_count": 72,
   "metadata": {},
   "outputs": [],
   "source": [
    "bf_model = hybrid_model.weight_strategy(borda=True)"
   ]
  },
  {
   "cell_type": "code",
   "execution_count": 73,
   "metadata": {},
   "outputs": [],
   "source": [
    "bf_evalue = msy.Evaluation(bf_model, reuse=preprocess)"
   ]
  },
  {
   "cell_type": "code",
   "execution_count": 74,
   "metadata": {},
   "outputs": [
    {
     "name": "stdout",
     "output_type": "stream",
     "text": [
      "bf mpk+ 0.032262\n",
      "bf mapk+ 0.076476\n",
      "bf mrrk+ 0.076476\n",
      "bf hr+ 0.161309\n"
     ]
    }
   ],
   "source": [
    "print('bf mpk+ {:.6f}'.format(bf_evalue.mean_k(5,'p_k')))\n",
    "print('bf mapk+ {:.6f}'.format(bf_evalue.mean_k(5,'ap_k')))\n",
    "print('bf mrrk+ {:.6f}'.format(bf_evalue.mean_k(5,'rr_k')))\n",
    "print('bf hr+ {:.6f}'.format(bf_evalue.mean_k(5,'hr_k')))"
   ]
  }
 ],
 "metadata": {
  "interpreter": {
   "hash": "aee8b7b246df8f9039afb4144a1f6fd8d2ca17a180786b69acc140d282b71a49"
  },
  "kernelspec": {
   "display_name": "Python 3.9.7 64-bit",
   "language": "python",
   "name": "python3"
  },
  "language_info": {
   "codemirror_mode": {
    "name": "ipython",
    "version": 3
   },
   "file_extension": ".py",
   "mimetype": "text/x-python",
   "name": "python",
   "nbconvert_exporter": "python",
   "pygments_lexer": "ipython3",
   "version": "3.9.7"
  },
  "orig_nbformat": 4
 },
 "nbformat": 4,
 "nbformat_minor": 2
}
